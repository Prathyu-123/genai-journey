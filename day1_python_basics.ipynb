{
 "cells": [
  {
   "cell_type": "code",
   "execution_count": 28,
   "metadata": {},
   "outputs": [
    {
     "name": "stdout",
     "output_type": "stream",
     "text": [
      "hello Prathyusha\n",
      "Line by line execution\n",
      "**********\n"
     ]
    }
   ],
   "source": [
    "#helloworld\n",
    "print(\"hello Prathyusha\")\n",
    "print(\"Line by line execution\")\n",
    "#this output clearly says python code executes line by line\n",
    "print(\"*\" * 10)"
   ]
  },
  {
   "cell_type": "code",
   "execution_count": 29,
   "metadata": {},
   "outputs": [
    {
     "name": "stdout",
     "output_type": "stream",
     "text": [
      "price 4.9\n",
      "True\n"
     ]
    }
   ],
   "source": [
    "#variables\n",
    "price = 10 #integer\n",
    "price = 4.9 #floats\n",
    "name = \"Prathyusa\" #string\n",
    "is_published = True #boolean\n",
    "print(\"price\",price)\n",
    "print(is_published)"
   ]
  },
  {
   "cell_type": "code",
   "execution_count": 21,
   "metadata": {},
   "outputs": [
    {
     "name": "stdout",
     "output_type": "stream",
     "text": [
      "name of the patient : john smith\n",
      "age of the patient : 20\n",
      "patient is new to the hospital : True\n"
     ]
    }
   ],
   "source": [
    "#ques : we check in a patient named john smith, he's 20 year old and is a new patient ---- define 3 varaiables for name,\n",
    "#age and other variable if he is new or not\n",
    "\n",
    "name = \"john smith\"\n",
    "age = 20\n",
    "is_newPatient = True\n",
    "print(\"name of the patient :\", name)\n",
    "print(\"age of the patient :\",age)\n",
    "print(\"patient is new to the hospital :\", is_newPatient)"
   ]
  },
  {
   "cell_type": "code",
   "execution_count": 25,
   "metadata": {},
   "outputs": [
    {
     "name": "stdout",
     "output_type": "stream",
     "text": [
      "enter the message :hi\n",
      "hi\n",
      "enter number6\n",
      "6\n"
     ]
    }
   ],
   "source": [
    "#input reading from user\n",
    "message  = input(\"enter the message :\")\n",
    "print(message)\n",
    "\n",
    "num = input(\"enter number\")\n",
    "print(num)"
   ]
  },
  {
   "cell_type": "code",
   "execution_count": 27,
   "metadata": {},
   "outputs": [
    {
     "name": "stdout",
     "output_type": "stream",
     "text": [
      "enter Name of the person :Prathyusha\n",
      "Enter the favourite color of person :white\n",
      "Prathyusha likes white\n"
     ]
    }
   ],
   "source": [
    "#ques: ask 2 questions: person's name and fav colour, then , print a message like Prathyusha likes white\n",
    "name = input(\"enter Name of the person :\")\n",
    "colour = input(\"Enter the favourite color of person :\")\n",
    "print(name+ \" likes \" + colour)"
   ]
  },
  {
   "cell_type": "code",
   "execution_count": 35,
   "metadata": {},
   "outputs": [
    {
     "name": "stdout",
     "output_type": "stream",
     "text": [
      "birth_year: 2001\n",
      "24\n"
     ]
    }
   ],
   "source": [
    "#type conversion\n",
    "yob = input(\"birth_year: \")\n",
    "#age = 2025 - yob ---> typo err , yob is string , and when tried to minus from int\n",
    "age = 2025 - int(yob) # then we convert string to int and did operation, it wil work -> type conversion\n",
    "print(age)"
   ]
  },
  {
   "cell_type": "code",
   "execution_count": 40,
   "metadata": {},
   "outputs": [
    {
     "name": "stdout",
     "output_type": "stream",
     "text": [
      "enter weight in pounds: 120\n",
      "weight in kilograms : 54.431039999999996\n"
     ]
    }
   ],
   "source": [
    "#ques: ask a user their weight(in pounds) , convert it to kilograms and print on the output\n",
    "\n",
    "weight_in_pounds = input(\"enter weight in pounds: \")\n",
    "kgs = 0.453592 * int(weight_in_pounds) #type-conversion\n",
    "print(\"weight in kilograms :\", kgs)"
   ]
  },
  {
   "cell_type": "code",
   "execution_count": 61,
   "metadata": {},
   "outputs": [
    {
     "name": "stdout",
     "output_type": "stream",
     "text": [
      "Prathyusha\n",
      "my name is \"Prathyusha\"\n",
      "\n",
      "hi,\n",
      "this is Prathyusha\n",
      "Learning python basics\n",
      "okay, bye!!!\n",
      "\n",
      "first letter of name1 : P\n",
      "last letter of name1 : a\n",
      "Pra\n",
      "rathyusha\n",
      "Prath\n",
      "Prathyusha\n"
     ]
    }
   ],
   "source": [
    "#strings\n",
    "name1 = \"Prathyusha\"\n",
    "#hight a word with doubke quote in a string\n",
    "name2 = 'my name is \"Prathyusha\"'\n",
    "print(name1)\n",
    "print(name2)\n",
    "\n",
    "#multiple lines \n",
    "name3= '''\n",
    "hi,\n",
    "this is Prathyusha\n",
    "Learning python basics\n",
    "okay, bye!!!\n",
    "'''\n",
    "print(name3)\n",
    "\n",
    "#get first letter in a string\n",
    "first_letter = name1[0] #index starts from beginning  0,1,2 and so on\n",
    "last_letter = name1[-1] #index starts from the end like -1 , -2 and so on\n",
    "print(\"first letter of name1 :\",first_letter)\n",
    "print(\"last letter of name1 :\",last_letter)\n",
    "\n",
    "#print from one particular index to other index\n",
    "print(name1[0:3]) #it prints from index 0 to 3-1\n",
    "\n",
    "#print from index particular index to end of the string\n",
    "print(name1[1:])\n",
    "\n",
    "#print from starting index to particular index \n",
    "print(name1[:5]) #from 0 to 5-1=4 -> 0 to 4 \n",
    "\n",
    "print(name1[:]) # from starting index to end of the string"
   ]
  },
  {
   "cell_type": "code",
   "execution_count": 72,
   "metadata": {},
   "outputs": [
    {
     "name": "stdout",
     "output_type": "stream",
     "text": [
      "ennife\n"
     ]
    }
   ],
   "source": [
    "name = \"jennifer\"\n",
    "print(name[1:-1]) #starring from index 1 to 1st character at the end to minus 1\n",
    "#so basically index from 1 to last index minus 1 "
   ]
  },
  {
   "cell_type": "code",
   "execution_count": 80,
   "metadata": {},
   "outputs": [
    {
     "name": "stdout",
     "output_type": "stream",
     "text": [
      "john [smith] is a coder n-> using concatenatio\n",
      "msg : john [smith] is a coder -> using formatted strings\n"
     ]
    }
   ],
   "source": [
    "#formatted strings\n",
    "first = \"john\"\n",
    "last = \"smith\"\n",
    "#print john [smith] is a coder\n",
    "print(first + \" [\" + last + \"]\" + \" is a coder n-> using concatenatio\") #this is concatenation \n",
    "\n",
    "#using formatted strings , we do like this\n",
    "msg = f'{first} [{last}] is a coder -> using formatted strings'\n",
    "print(\"msg :\",msg)"
   ]
  },
  {
   "cell_type": "code",
   "execution_count": 104,
   "metadata": {},
   "outputs": [
    {
     "name": "stdout",
     "output_type": "stream",
     "text": [
      "10\n",
      "PRATHYUSHA\n",
      "prathyusha\n",
      "2\n",
      "-1\n",
      "6\n",
      "Prathymahii\n",
      "PrMthyushM\n",
      "Prathyusha\n",
      "True\n",
      "False\n",
      "True\n",
      "Prathyusha\n"
     ]
    }
   ],
   "source": [
    "#string methods\n",
    "name = \"Prathyusha\"\n",
    "length = len(name) #len() -> count of letters in  a word or string\n",
    "print(length)\n",
    "\n",
    "print(name.upper()) #.upper() returns us all caps of string\n",
    "print(name.lower()) #.lower() method returns us all small leters of a string\n",
    "\n",
    "print(name.find(\"a\")) #it returns the first found letter a in first index\n",
    "print(name.find(\"b\")) #returns -1 becuase it's not found in the string\n",
    "print(name.find(\"usha\")) #returns 6 because usha starts at index 6\n",
    "\n",
    "print(name.replace(\"usha\", \"mahii\")) #replaces the first given word with second word in the string\n",
    "print(name.replace(\"a\", \"M\"))\n",
    "print(name)\n",
    "\n",
    "#if a string contains particular letters (in operator)\n",
    "print(\"usha\" in name) #returns true since usha is there\n",
    "print(\"p\" in name) #returns false P is there, not p , case sensitive\n",
    "print(\"P\" in name) #returns true bacause P is there\n",
    "\n",
    "print(name.title()) #it converts all the strings to firts letter capitals eg : Prathyu is a good to Prathyu Is A Good\n"
   ]
  },
  {
   "cell_type": "code",
   "execution_count": 112,
   "metadata": {},
   "outputs": [
    {
     "name": "stdout",
     "output_type": "stream",
     "text": [
      "5\n",
      "1\n",
      "6\n",
      "5.0\n",
      "5\n",
      "0\n",
      "1000\n"
     ]
    }
   ],
   "source": [
    "#arithmetic operators\n",
    "print(2 + 3) #add\n",
    "print(3 - 2) #subtract\n",
    "print(2 * 3) #multiply\n",
    "print(10 / 2) # division , returns float\n",
    "print(10 // 2) #division , returns int\n",
    "print(10 % 2) #mod,returns remainder of the division\n",
    "print(10 ** 3) # like 10 power 3 \n"
   ]
  },
  {
   "cell_type": "code",
   "execution_count": 117,
   "metadata": {},
   "outputs": [
    {
     "name": "stdout",
     "output_type": "stream",
     "text": [
      "13\n"
     ]
    }
   ],
   "source": [
    "x = 10\n",
    "#increase x by 3\n",
    "x += 3 #also written as x = x + 3\n",
    "print(x)"
   ]
  },
  {
   "cell_type": "code",
   "execution_count": 121,
   "metadata": {},
   "outputs": [
    {
     "name": "stdout",
     "output_type": "stream",
     "text": [
      "16\n"
     ]
    }
   ],
   "source": [
    "x = 10 + 3 * 2\n",
    "print(x) # bodmas rule, multiplication first , then add\n",
    "#order -> exponentiation ** , div , mul, add, sub"
   ]
  },
  {
   "cell_type": "code",
   "execution_count": 123,
   "metadata": {},
   "outputs": [
    {
     "name": "stdout",
     "output_type": "stream",
     "text": [
      "22\n"
     ]
    }
   ],
   "source": [
    "x = 10 + 3 * 2 ** 2\n",
    "print(x)\n",
    "#first exponentiation, then mul then add\n"
   ]
  },
  {
   "cell_type": "code",
   "execution_count": 125,
   "metadata": {},
   "outputs": [
    {
     "name": "stdout",
     "output_type": "stream",
     "text": [
      "47\n"
     ]
    }
   ],
   "source": [
    "x = (2 +3) * 10 - 3\n",
    "print(x)\n",
    "#paranthesis first , then mul , then sub"
   ]
  },
  {
   "cell_type": "code",
   "execution_count": 129,
   "metadata": {},
   "outputs": [
    {
     "name": "stdout",
     "output_type": "stream",
     "text": [
      "3\n",
      "2.9\n"
     ]
    }
   ],
   "source": [
    "#math functions\n",
    "x = 2.6\n",
    "print(round(x)) #round figure of a number\n",
    "print(abs(-2.9)) #returns positive number \n"
   ]
  },
  {
   "cell_type": "code",
   "execution_count": 133,
   "metadata": {},
   "outputs": [
    {
     "name": "stdout",
     "output_type": "stream",
     "text": [
      "3\n",
      "2\n"
     ]
    }
   ],
   "source": [
    "#math modules\n",
    "import math\n",
    "print(math.ceil(2.9))\n",
    "print(math.floor(2.9))"
   ]
  },
  {
   "cell_type": "code",
   "execution_count": 135,
   "metadata": {},
   "outputs": [
    {
     "name": "stdout",
     "output_type": "stream",
     "text": [
      "yes, it's hot\n"
     ]
    }
   ],
   "source": [
    "#if statements\n",
    "is_hot = True\n",
    "is_cold = True\n",
    "if is_hot:\n",
    "    print(\"yes, it's hot\")\n",
    "elif is_cold:\n",
    "    print(\"it's cold\")\n",
    "else:\n",
    "    print(\"enjoy your day\")"
   ]
  },
  {
   "cell_type": "code",
   "execution_count": 144,
   "metadata": {},
   "outputs": [
    {
     "name": "stdout",
     "output_type": "stream",
     "text": [
      "Down Payment : $100000.0\n"
     ]
    }
   ],
   "source": [
    "#ques:imagine price of house is $1M, if buyer has good credit , they need to put down 10%\n",
    "#otherwise they need to put down 20%\n",
    "#print the down payment\n",
    "\n",
    "price = 1000000\n",
    "has_good_credit = True\n",
    "if has_good_credit:\n",
    "    down_payment = 0.1 * price\n",
    "else:\n",
    "    down_payment = 0.2* price\n",
    "print(f\"Down Payment : ${down_payment}\")"
   ]
  },
  {
   "cell_type": "code",
   "execution_count": 148,
   "metadata": {},
   "outputs": [
    {
     "name": "stdout",
     "output_type": "stream",
     "text": [
      "eligible for high income\n"
     ]
    }
   ],
   "source": [
    "#logical operators\n",
    "#if applicant has high income and good credit score , eligble for loan\n",
    "has_high_income = True\n",
    "has_good_credit_score = True\n",
    "\n",
    "if (has_good_credit_score & has_high_income):\n",
    "    print(\"eligible for high income\")\n",
    "    \n",
    "#any oenof the condition strue -> OR |\n",
    "#opposite -> ! not"
   ]
  },
  {
   "cell_type": "code",
   "execution_count": 151,
   "metadata": {},
   "outputs": [
    {
     "name": "stdout",
     "output_type": "stream",
     "text": [
      "hot\n"
     ]
    }
   ],
   "source": [
    "#comaparison operators\n",
    "#if temp is > 30, print hot , <10 , print cold , else , neither hot nor cold\n",
    "\n",
    "temp = 100\n",
    "if temp > 30:\n",
    "    print(\"hot\")\n",
    "elif temp < 10:\n",
    "    print(\"cold\")\n",
    "else:\n",
    "    print(\"neither hot nor cold\")"
   ]
  },
  {
   "cell_type": "code",
   "execution_count": 152,
   "metadata": {},
   "outputs": [
    {
     "name": "stdout",
     "output_type": "stream",
     "text": [
      "name looks good\n"
     ]
    }
   ],
   "source": [
    "name = \"Prathyusha\"\n",
    "if len(name) < 3:\n",
    "    print(\"name must be atleast 3 characters\")\n",
    "elif len(name) > 50:\n",
    "    print(\"name can be maximum of 50 characters\")\n",
    "else:\n",
    "    print(\"name looks good\")"
   ]
  },
  {
   "cell_type": "code",
   "execution_count": 156,
   "metadata": {},
   "outputs": [
    {
     "name": "stdout",
     "output_type": "stream",
     "text": [
      "enter weight in pounds : 120\n",
      "you are 54.0 kilos\n"
     ]
    }
   ],
   "source": [
    "#weight converter\n",
    "weight_in_pounds = int(input(\"enter weight in pounds : \"))\n",
    "converted_weight = 0.45 * weight_in_pounds\n",
    "print(\"you are\", converted_weight, \"kilos\")"
   ]
  },
  {
   "cell_type": "code",
   "execution_count": 158,
   "metadata": {},
   "outputs": [
    {
     "name": "stdout",
     "output_type": "stream",
     "text": [
      "*\n",
      "**\n",
      "***\n",
      "****\n",
      "*****\n",
      "done\n"
     ]
    }
   ],
   "source": [
    "#while loops\n",
    "i = 1\n",
    "while i <= 5:\n",
    "    print(\"*\" * i)\n",
    "    i = i+1\n",
    "print(\"done\")\n",
    "    "
   ]
  },
  {
   "cell_type": "code",
   "execution_count": 6,
   "metadata": {},
   "outputs": [
    {
     "name": "stdout",
     "output_type": "stream",
     "text": [
      "Guess : 9\n",
      "you win\n"
     ]
    }
   ],
   "source": [
    "#guessing game , 3 chances to guess if number matches 9 , else user is failed\n",
    "secret_number = 9\n",
    "i = 0\n",
    "while i < 3:\n",
    "    guess = int(input(\"Guess : \"))\n",
    "    if guess == secret_number:\n",
    "        print(\"you win\")\n",
    "        break\n",
    "       \n",
    "    else:\n",
    "        i = i+1\n",
    "        print(\"you fail\")\n",
    "    "
   ]
  },
  {
   "cell_type": "code",
   "execution_count": null,
   "metadata": {},
   "outputs": [],
   "source": []
  }
 ],
 "metadata": {
  "kernelspec": {
   "display_name": "Python 3",
   "language": "python",
   "name": "python3"
  },
  "language_info": {
   "codemirror_mode": {
    "name": "ipython",
    "version": 3
   },
   "file_extension": ".py",
   "mimetype": "text/x-python",
   "name": "python",
   "nbconvert_exporter": "python",
   "pygments_lexer": "ipython3",
   "version": "3.7.4"
  }
 },
 "nbformat": 4,
 "nbformat_minor": 2
}
