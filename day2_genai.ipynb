{
 "cells": [
  {
   "cell_type": "code",
   "execution_count": 1,
   "metadata": {},
   "outputs": [],
   "source": [
    "#in programming languages like C , they used to focus on sequence of steps to be done as functions..then when new \n",
    "#programming languages came, they focused on relying data and creating something called objects.\n",
    "#examples of oops are java, c++ , c sharp , .net etc\n",
    "\n",
    "#Class:\n",
    "#class is basically blueprint from which specific objects are created"
   ]
  },
  {
   "cell_type": "code",
   "execution_count": 12,
   "metadata": {},
   "outputs": [
    {
     "name": "stdout",
     "output_type": "stream",
     "text": [
      "{'modelname': 'city', 'yearM': 2014, 'price': 1000000, 'cc': 1500}\n",
      "1150000.0\n"
     ]
    }
   ],
   "source": [
    "class Car():\n",
    "    def __init__(self,modelname,yearM,price):\n",
    "        self.modelname = modelname\n",
    "        self.yearM = yearM\n",
    "        self.price = price\n",
    "    def price_inc(self):\n",
    "        self.price = (self.price*1.15)\n",
    "        \n",
    "honda = Car(\"city\",2014,1000000) #object of class Car\n",
    "tata = Car(\"nexon\",2020,1579906)\n",
    "\n",
    "honda.cc=1500\n",
    "\n",
    "\n",
    "print(honda.__dict__) #all variables of honda object\n",
    "honda.price_inc()\n",
    "print(honda.price)\n",
    "\n",
    "    "
   ]
  },
  {
   "cell_type": "code",
   "execution_count": 14,
   "metadata": {},
   "outputs": [],
   "source": [
    "#oops concepts in python:\n",
    "#inheritence - a clas can inherit attributes and behaviour methods from other calss , called super calss\n",
    "#a class which inherits from a super class is called subclass, also called as child class"
   ]
  },
  {
   "cell_type": "code",
   "execution_count": 17,
   "metadata": {},
   "outputs": [
    {
     "name": "stdout",
     "output_type": "stream",
     "text": [
      "{'modelname': 'city', 'yearM': 2014, 'price': 1000000, 'cc': 1500}\n"
     ]
    }
   ],
   "source": [
    "class Car():\n",
    "    def __init__(self,modelname,yearM,price):\n",
    "        self.modelname = modelname\n",
    "        self.yearM = yearM\n",
    "        self.price = price\n",
    "    def price_inc(self):\n",
    "        self.price = (self.price*1.15)\n",
    "\n",
    "\n",
    "class SuperCar(Car):\n",
    "    pass\n",
    "        \n",
    "honda = SuperCar(\"city\",2014,1000000) #object of class Car\n",
    "#tata = Car(\"nexon\",2020,1579906)\n",
    "\n",
    "honda.cc = 1500\n",
    "print(honda.__dict__)"
   ]
  },
  {
   "cell_type": "code",
   "execution_count": 19,
   "metadata": {},
   "outputs": [
    {
     "data": {
      "text/plain": [
       "2.5"
      ]
     },
     "execution_count": 19,
     "metadata": {},
     "output_type": "execute_result"
    }
   ],
   "source": [
    "#functions Practise\n",
    "#write a function that takes 2 numbers and return their average\n",
    "\n",
    "def average(a,b):\n",
    "    c= (a+b)/2\n",
    "    return c\n",
    "average(2,3)"
   ]
  },
  {
   "cell_type": "code",
   "execution_count": 1,
   "metadata": {},
   "outputs": [
    {
     "name": "stdout",
     "output_type": "stream",
     "text": [
      "10\n"
     ]
    }
   ],
   "source": [
    "# Write a function that accepts *args and returns their sum\n",
    "def total_sum(*args):\n",
    "    return sum(args)  # Now this works, since we didn't redefine sum()\n",
    "\n",
    "print(total_sum(1, 2, 3, 4))\n"
   ]
  },
  {
   "cell_type": "code",
   "execution_count": 3,
   "metadata": {},
   "outputs": [
    {
     "name": "stdout",
     "output_type": "stream",
     "text": [
      "{'name': 'Prathyusha', 'role': 'Infra Engineer'}\n"
     ]
    }
   ],
   "source": [
    "# Function with **kwargs to build a user profile\n",
    "def create_profile(**kwargs):\n",
    "    return kwargs\n",
    "print(create_profile(name=\"Prathyusha\", role=\"Infra Engineer\"))"
   ]
  },
  {
   "cell_type": "code",
   "execution_count": 16,
   "metadata": {},
   "outputs": [
    {
     "name": "stdout",
     "output_type": "stream",
     "text": [
      "(2, 4, 'small')\n"
     ]
    }
   ],
   "source": [
    " #Part 2: Class and Object Practice\n",
    "class Laptop:\n",
    "    def __init__(self,cpu,mem,size):\n",
    "        self.cpu = cpu\n",
    "        self.mem = mem\n",
    "        self.size = size\n",
    "    def Asus(self):\n",
    "        return self.cpu,self.mem,self.size\n",
    "laptop=Laptop(2,4,\"small\")\n",
    "print(laptop.Asus())\n",
    "\n",
    "        \n",
    "    "
   ]
  },
  {
   "cell_type": "code",
   "execution_count": 31,
   "metadata": {},
   "outputs": [
    {
     "name": "stdout",
     "output_type": "stream",
     "text": [
      "Orange\n",
      "Black\n"
     ]
    }
   ],
   "source": [
    "# Part 3: Inheritance & Method Overriding\n",
    "class Bike:\n",
    "    def Color(self):\n",
    "        return \"some colour\"\n",
    "class Ktm(Bike):\n",
    "    def Color(self):\n",
    "        return \"Orange\"\n",
    "class Royal(Bike):\n",
    "    def Color(self):\n",
    "        return \"Black\"\n",
    "my_bike = Ktm()\n",
    "my_royal_bike=Royal()\n",
    "print(my_bike.Color())\n",
    "print(my_royal_bike.Color())\n",
    "    \n",
    "        "
   ]
  },
  {
   "cell_type": "code",
   "execution_count": 34,
   "metadata": {},
   "outputs": [
    {
     "name": "stdout",
     "output_type": "stream",
     "text": [
      "Deposited ₹2000. New balance: ₹7000\n",
      "Withdrew ₹1000. New balance: ₹6000\n",
      "Balance: 6000\n",
      "Deposited ₹3000. New balance: ₹13000\n",
      "Interest ₹910.00 added. New balance: ₹13910.00\n",
      "Withdrew ₹2000. New balance: ₹11910.0\n",
      "Savings Balance: 11910.0\n"
     ]
    }
   ],
   "source": [
    "#Bonus Project: Bank System\n",
    "#Create a simple banking app with:\n",
    "\n",
    "#BankAccount class\n",
    "\n",
    "#deposit(), withdraw(), and balance() methods\n",
    "\n",
    "#SavingsAccount subclass that adds interest_rate\n",
    "\n",
    "# Base class\n",
    "class BankAccount:\n",
    "    def __init__(self, account_holder, balance=0):\n",
    "        self.account_holder = account_holder\n",
    "        self.balance = balance\n",
    "\n",
    "    def deposit(self, amount):\n",
    "        if amount > 0:\n",
    "            self.balance += amount\n",
    "            print(f\"Deposited ₹{amount}. New balance: ₹{self.balance}\")\n",
    "        else:\n",
    "            print(\"Deposit amount must be positive.\")\n",
    "\n",
    "    def withdraw(self, amount):\n",
    "        if 0 < amount <= self.balance:\n",
    "            self.balance -= amount\n",
    "            print(f\"Withdrew ₹{amount}. New balance: ₹{self.balance}\")\n",
    "        else:\n",
    "            print(\"Insufficient funds or invalid amount.\")\n",
    "\n",
    "    def get_balance(self):\n",
    "        return self.balance\n",
    "\n",
    "# Subclass with interest rate\n",
    "class SavingsAccount(BankAccount):\n",
    "    def __init__(self, account_holder, balance=0, interest_rate=0.05):\n",
    "        super().__init__(account_holder, balance)\n",
    "        self.interest_rate = interest_rate\n",
    "\n",
    "    def add_interest(self):\n",
    "        interest = self.balance * self.interest_rate\n",
    "        self.balance += interest\n",
    "        print(f\"Interest ₹{interest:.2f} added. New balance: ₹{self.balance:.2f}\")\n",
    "# Creating a regular bank account\n",
    "acc1 = BankAccount(\"Prathyusha\", 5000)\n",
    "acc1.deposit(2000)\n",
    "acc1.withdraw(1000)\n",
    "print(\"Balance:\", acc1.get_balance())\n",
    "\n",
    "# Creating a savings account\n",
    "savings = SavingsAccount(\"Prathyusha\", 10000, interest_rate=0.07)\n",
    "savings.deposit(3000)\n",
    "savings.add_interest()\n",
    "savings.withdraw(2000)\n",
    "print(\"Savings Balance:\", savings.get_balance())\n"
   ]
  },
  {
   "cell_type": "code",
   "execution_count": 36,
   "metadata": {},
   "outputs": [
    {
     "name": "stdout",
     "output_type": "stream",
     "text": [
      "Deposited ₹2000\n",
      "Withdrew ₹500\n",
      "Holder: Prathyusha\n",
      "Balance: 11500\n"
     ]
    }
   ],
   "source": [
    "# Example: BankAccount with Encapsulation\n",
    "class BankAccount:\n",
    "    def __init__(self, holder, balance=0):\n",
    "        self.__holder = holder       # private attribute\n",
    "        self.__balance = balance     # private attribute\n",
    "\n",
    "    def deposit(self, amount):\n",
    "        if amount > 0:\n",
    "            self.__balance += amount\n",
    "            print(f\"Deposited ₹{amount}\")\n",
    "        else:\n",
    "            print(\"Invalid amount\")\n",
    "\n",
    "    def withdraw(self, amount):\n",
    "        if 0 < amount <= self.__balance:\n",
    "            self.__balance -= amount\n",
    "            print(f\"Withdrew ₹{amount}\")\n",
    "        else:\n",
    "            print(\"Insufficient funds\")\n",
    "\n",
    "    def get_balance(self):       # getter\n",
    "        return self.__balance\n",
    "\n",
    "    def set_holder(self, new_holder):   # setter\n",
    "        self.__holder = new_holder\n",
    "\n",
    "    def get_holder(self):        # getter\n",
    "        return self.__holder\n",
    "acc = BankAccount(\"Prathyusha\", 10000)\n",
    "acc.deposit(2000)\n",
    "acc.withdraw(500)\n",
    "\n",
    "print(\"Holder:\", acc.get_holder())\n",
    "print(\"Balance:\", acc.get_balance())\n",
    "\n",
    "# Trying to access private attribute directly (not allowed)\n",
    "# print(acc.__balance)  ❌ will raise error\n"
   ]
  },
  {
   "cell_type": "code",
   "execution_count": 38,
   "metadata": {},
   "outputs": [
    {
     "name": "stdout",
     "output_type": "stream",
     "text": [
      "Deposited ₹10000. New balance: ₹10000\n",
      "Withdrew ₹2000. New balance: ₹8000\n",
      "Balance: 8000\n"
     ]
    }
   ],
   "source": [
    "# Example: Abstract BankAccount Class\n",
    "from abc import ABC, abstractmethod\n",
    "\n",
    "class BankAccount(ABC):\n",
    "    def __init__(self, holder):\n",
    "        self._holder = holder\n",
    "        self._balance = 0\n",
    "\n",
    "    @abstractmethod\n",
    "    def deposit(self, amount):\n",
    "        pass\n",
    "\n",
    "    @abstractmethod\n",
    "    def withdraw(self, amount):\n",
    "        pass\n",
    "\n",
    "    def get_balance(self):\n",
    "        return self._balance\n",
    "acc = SavingsAccount(\"Prathyusha\")\n",
    "acc.deposit(10000)\n",
    "acc.withdraw(2000)\n",
    "print(\"Balance:\", acc.get_balance())\n"
   ]
  },
  {
   "cell_type": "code",
   "execution_count": null,
   "metadata": {},
   "outputs": [],
   "source": []
  }
 ],
 "metadata": {
  "kernelspec": {
   "display_name": "Python 3",
   "language": "python",
   "name": "python3"
  },
  "language_info": {
   "codemirror_mode": {
    "name": "ipython",
    "version": 3
   },
   "file_extension": ".py",
   "mimetype": "text/x-python",
   "name": "python",
   "nbconvert_exporter": "python",
   "pygments_lexer": "ipython3",
   "version": "3.7.4"
  }
 },
 "nbformat": 4,
 "nbformat_minor": 2
}
