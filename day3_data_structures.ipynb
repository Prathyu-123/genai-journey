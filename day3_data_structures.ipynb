{
 "cells": [
  {
   "cell_type": "code",
   "execution_count": 1,
   "metadata": {},
   "outputs": [],
   "source": [
    "#Lists\n",
    "#In Python, a list is a built-in dynamic sized array\n",
    "#We can store all types of items (including another list) in a list. A list may contain mixed type of items, this is possible because a list mainly stores references at contiguous locations and actual items maybe stored at different locations.\n",
    "#List can contain duplicate items.\n",
    "#List in Python are Mutable. Hence, we can modify, replace or delete the items.\n",
    "#List are ordered. It maintain the order of elements based on how they are added.\n",
    "#Accessing items in List can be done directly using their position (index), starting from 0."
   ]
  },
  {
   "cell_type": "code",
   "execution_count": 2,
   "metadata": {},
   "outputs": [
    {
     "name": "stdout",
     "output_type": "stream",
     "text": [
      "[10, 20, 'GfG', 40, True]\n",
      "10\n",
      "20\n",
      "GfG\n",
      "40\n",
      "True\n",
      "<class 'str'>\n",
      "<class 'bool'>\n"
     ]
    }
   ],
   "source": [
    "# Creating a Python list with different data types\n",
    "a = [10, 20, \"GfG\", 40, True]\n",
    "print(a)\n",
    "\n",
    "# Accessing elements using indexing\n",
    "print(a[0])  # 10\n",
    "print(a[1])  # 20\n",
    "print(a[2])  # \"GfG\"\n",
    "print(a[3])  # 40\n",
    "print(a[4])  # True\n",
    "\n",
    "# Checking types of elements\n",
    "print(type(a[2]))  # str\n",
    "print(type(a[4]))  # bool"
   ]
  },
  {
   "cell_type": "code",
   "execution_count": 3,
   "metadata": {},
   "outputs": [
    {
     "name": "stdout",
     "output_type": "stream",
     "text": [
      "[1, 2, 3]\n",
      "['apple', 'banana', 'cherry']\n",
      "[1, 'abc', 'A', 1.9, [2, 1]]\n"
     ]
    }
   ],
   "source": [
    "#creating a list\n",
    "a= [1,2,3] #list of integers\n",
    "b= [\"apple\",\"banana\",\"cherry\"] #list of strings\n",
    "c = [1,\"abc\", 'A', 1.9, [2,1]] #list of mixed data types\n",
    "print(a)\n",
    "print(b)\n",
    "print(c)\n"
   ]
  },
  {
   "cell_type": "code",
   "execution_count": 4,
   "metadata": {},
   "outputs": [
    {
     "name": "stdout",
     "output_type": "stream",
     "text": [
      "[1, 'abc', [1, 2]]\n"
     ]
    }
   ],
   "source": [
    "#create a list Using list() Constructor\n",
    "a=list((1,\"abc\",[1,2]))\n",
    "print(a)"
   ]
  },
  {
   "cell_type": "code",
   "execution_count": 6,
   "metadata": {},
   "outputs": [
    {
     "name": "stdout",
     "output_type": "stream",
     "text": [
      "[2, 2, 2, 2, 2]\n",
      "[0, 0, 0, 0, 0, 0, 0]\n"
     ]
    }
   ],
   "source": [
    "#Creating List with Repeated Elements\n",
    "# Create a list [2, 2, 2, 2, 2]\n",
    "\n",
    "a = [2] * 5\n",
    "\n",
    "print(a)\n",
    "\n",
    "# Create a list [0, 0, 0, 0, 0, 0, 0]\n",
    "\n",
    "b = [0] * 7\n",
    "print(b)"
   ]
  },
  {
   "cell_type": "code",
   "execution_count": 9,
   "metadata": {},
   "outputs": [
    {
     "name": "stdout",
     "output_type": "stream",
     "text": [
      "Prathyusha\n",
      "1\n",
      "[1, 2, 3]\n"
     ]
    }
   ],
   "source": [
    "#Accessing List Elements\n",
    "a=list((\"Prathyusha\",1,'I',[1,2,3]))\n",
    "print(a[0]) #print first element\n",
    "print(a[1])\n",
    "\n",
    "print(a[-1]) #print last element"
   ]
  },
  {
   "cell_type": "code",
   "execution_count": 16,
   "metadata": {},
   "outputs": [
    {
     "name": "stdout",
     "output_type": "stream",
     "text": [
      "[1, 2, 3, 4]\n",
      "[5, 1, 2, 3, 4]\n",
      "[5, 1, 2, 3, 4, 9, 12, 56]\n"
     ]
    }
   ],
   "source": [
    "#Adding Elements into List\n",
    "# 1. append(): Adds an element at the end of the list.\n",
    "a=[1,2,3]\n",
    "a.append(4)\n",
    "print(a)\n",
    "\n",
    "# 2.insert(): Adds an element at a specific position.\n",
    "\n",
    "# Inserting 5 at index 0\n",
    "a.insert(0,5)\n",
    "print(a)\n",
    "\n",
    "# 3.extend(): Adds multiple elements to the end of the list.\n",
    "a.extend([9,12,56])\n",
    "print(a)"
   ]
  },
  {
   "cell_type": "code",
   "execution_count": 18,
   "metadata": {},
   "outputs": [
    {
     "name": "stdout",
     "output_type": "stream",
     "text": [
      "Before updating [5, 1, 2, 3, 4, 9, 12, 56]\n",
      "after updating [5, 1, 6, 3, 4, 9, 12, 56]\n"
     ]
    }
   ],
   "source": [
    "#Updating Elements into List\n",
    "print(\"Before updating\",a)\n",
    "a[2] = 6\n",
    "print(\"after updating\",a)"
   ]
  },
  {
   "cell_type": "code",
   "execution_count": 28,
   "metadata": {},
   "outputs": [
    {
     "name": "stdout",
     "output_type": "stream",
     "text": [
      "[1, 2, 3, 4, 5]\n",
      "[1, 3, 4, 5]\n",
      "[3, 4, 5]\n"
     ]
    }
   ],
   "source": [
    "#Removing Elements from List\n",
    "\n",
    "# 1.remove(): Removes the first occurrence of an element.\n",
    "a = [1,2,3,4,5,6]\n",
    "a.remove(6)\n",
    "print(a)\n",
    "\n",
    "# 2.pop(): Removes the element at a specific index or the last element if no index is specified.\n",
    "a.pop(1)\n",
    "print(a)\n",
    "\n",
    "#del statement: Deletes an element at a specified index.\n",
    "del(a[0])\n",
    "print(a)"
   ]
  },
  {
   "cell_type": "code",
   "execution_count": 31,
   "metadata": {},
   "outputs": [
    {
     "name": "stdout",
     "output_type": "stream",
     "text": [
      "[0, 1, 2, 3, 7]\n",
      "[4, 2, 1]\n"
     ]
    }
   ],
   "source": [
    "#sort() function\n",
    "a=[3,7,1,2,0]\n",
    "a.sort()\n",
    "print(a)\n",
    "\n",
    "#reverse function\n",
    "b=[1,2,4]\n",
    "b.reverse()\n",
    "print(b)"
   ]
  },
  {
   "cell_type": "code",
   "execution_count": 32,
   "metadata": {},
   "outputs": [],
   "source": [
    "###################################### tuples #########################################"
   ]
  },
  {
   "cell_type": "code",
   "execution_count": 33,
   "metadata": {},
   "outputs": [],
   "source": [
    "#Python Tuple is a collection of objects separated by commas. A tuple is similar to a Python list in terms of indexing, nested objects, and repetition but the main difference between both is Python tuple is immutable, unlike the Python list which is mutable."
   ]
  },
  {
   "cell_type": "code",
   "execution_count": 34,
   "metadata": {},
   "outputs": [
    {
     "name": "stdout",
     "output_type": "stream",
     "text": [
      "(1, 2, 3)\n"
     ]
    }
   ],
   "source": [
    "my_tuple = (1,2,3)\n",
    "print(my_tuple)"
   ]
  },
  {
   "cell_type": "code",
   "execution_count": 35,
   "metadata": {},
   "outputs": [],
   "source": [
    "#Like Lists, tuples are ordered and we can access their elements using their index values\n",
    "#lists are mutable, we can update the value of an element , in tuple, we can't that's why immutable\n",
    "#Tuples cannot be appended or extended.\n",
    "#We cannot remove items from a tuple once it is created. "
   ]
  },
  {
   "cell_type": "code",
   "execution_count": 37,
   "metadata": {},
   "outputs": [
    {
     "name": "stdout",
     "output_type": "stream",
     "text": [
      "1\n"
     ]
    },
    {
     "ename": "TypeError",
     "evalue": "'tuple' object does not support item assignment",
     "output_type": "error",
     "traceback": [
      "\u001b[1;31m---------------------------------------------------------------------------\u001b[0m",
      "\u001b[1;31mTypeError\u001b[0m                                 Traceback (most recent call last)",
      "\u001b[1;32m<ipython-input-37-e782990edba7>\u001b[0m in \u001b[0;36m<module>\u001b[1;34m\u001b[0m\n\u001b[0;32m      1\u001b[0m \u001b[0mt\u001b[0m \u001b[1;33m=\u001b[0m \u001b[1;33m(\u001b[0m\u001b[1;36m1\u001b[0m\u001b[1;33m,\u001b[0m\u001b[1;36m2\u001b[0m\u001b[1;33m,\u001b[0m\u001b[1;36m3\u001b[0m\u001b[1;33m)\u001b[0m\u001b[1;33m\u001b[0m\u001b[1;33m\u001b[0m\u001b[0m\n\u001b[0;32m      2\u001b[0m \u001b[0mprint\u001b[0m\u001b[1;33m(\u001b[0m\u001b[0mt\u001b[0m\u001b[1;33m[\u001b[0m\u001b[1;36m0\u001b[0m\u001b[1;33m]\u001b[0m\u001b[1;33m)\u001b[0m\u001b[1;33m\u001b[0m\u001b[1;33m\u001b[0m\u001b[0m\n\u001b[1;32m----> 3\u001b[1;33m \u001b[0mt\u001b[0m\u001b[1;33m[\u001b[0m\u001b[1;36m1\u001b[0m\u001b[1;33m]\u001b[0m \u001b[1;33m=\u001b[0m \u001b[1;36m5\u001b[0m\u001b[1;33m\u001b[0m\u001b[1;33m\u001b[0m\u001b[0m\n\u001b[0m\u001b[0;32m      4\u001b[0m \u001b[0mprint\u001b[0m\u001b[1;33m(\u001b[0m\u001b[0mt\u001b[0m\u001b[1;33m)\u001b[0m\u001b[1;33m\u001b[0m\u001b[1;33m\u001b[0m\u001b[0m\n",
      "\u001b[1;31mTypeError\u001b[0m: 'tuple' object does not support item assignment"
     ]
    }
   ],
   "source": [
    "t = (1,2,3)\n",
    "print(t[0])\n",
    "t[1] = 5\n",
    "print(t)"
   ]
  },
  {
   "cell_type": "code",
   "execution_count": 41,
   "metadata": {},
   "outputs": [
    {
     "name": "stdout",
     "output_type": "stream",
     "text": [
      "(1, 2, 3)\n",
      "3\n",
      "2\n",
      "1\n"
     ]
    }
   ],
   "source": [
    "#Access Tuple using Negative Index\n",
    "print(t)\n",
    "print(t[-1])\n",
    "print(t[-2])\n",
    "print(t[-3])"
   ]
  },
  {
   "cell_type": "code",
   "execution_count": 45,
   "metadata": {},
   "outputs": [
    {
     "name": "stdout",
     "output_type": "stream",
     "text": [
      "1 2 3 4 "
     ]
    }
   ],
   "source": [
    "#Traversing Items of Python Tuples\n",
    "t = (1,2,3,4)\n",
    "for i in t:\n",
    "    print(i,end=\" \")"
   ]
  },
  {
   "cell_type": "code",
   "execution_count": 46,
   "metadata": {},
   "outputs": [
    {
     "name": "stdout",
     "output_type": "stream",
     "text": [
      "(1, 2, 3, 'Prathyusha', 'Imandi')\n"
     ]
    }
   ],
   "source": [
    "#Concatenation of Python Tuples\n",
    "\n",
    "t1=(1,2,3)\n",
    "t2=(\"Prathyusha\",\"Imandi\")\n",
    "t3 = t1 + t2\n",
    "print(t3)"
   ]
  },
  {
   "cell_type": "code",
   "execution_count": 48,
   "metadata": {},
   "outputs": [
    {
     "name": "stdout",
     "output_type": "stream",
     "text": [
      "(1, 2, 3)\n",
      "('Prathyusha', 'Imandi')\n",
      "((1, 2, 3), ('Prathyusha', 'Imandi'))\n"
     ]
    }
   ],
   "source": [
    "#Nesting of Python Tuples\n",
    "print(t1)\n",
    "print(t2)\n",
    "t4=(t1,t2)\n",
    "print(t4)"
   ]
  },
  {
   "cell_type": "code",
   "execution_count": 50,
   "metadata": {},
   "outputs": [
    {
     "name": "stdout",
     "output_type": "stream",
     "text": [
      "(0, 0, 0, 0, 0)\n"
     ]
    }
   ],
   "source": [
    "#Repetition Python Tuples\n",
    "#(0,0,0,0,0)\n",
    "a=(0,) * 5\n",
    "print(a)"
   ]
  },
  {
   "cell_type": "code",
   "execution_count": 52,
   "metadata": {},
   "outputs": [
    {
     "name": "stdout",
     "output_type": "stream",
     "text": [
      "(1, 2, 3)\n",
      "(3, 2, 1, 0)\n",
      "(2, 3)\n"
     ]
    }
   ],
   "source": [
    "#Slicing Tuples in Python\n",
    "\n",
    "tup = (0 ,1, 2, 3)\n",
    "\n",
    "print(tup[1:]) #from indec 1 to end\n",
    "print(tup[::-1]) # from last index to beginning of the tuple\n",
    "print(tup[2:4]) # from index 2 to 4"
   ]
  },
  {
   "cell_type": "code",
   "execution_count": 53,
   "metadata": {},
   "outputs": [
    {
     "ename": "NameError",
     "evalue": "name 'tup' is not defined",
     "output_type": "error",
     "traceback": [
      "\u001b[1;31m---------------------------------------------------------------------------\u001b[0m",
      "\u001b[1;31mNameError\u001b[0m                                 Traceback (most recent call last)",
      "\u001b[1;32m<ipython-input-53-eb668458f906>\u001b[0m in \u001b[0;36m<module>\u001b[1;34m\u001b[0m\n\u001b[0;32m      3\u001b[0m \u001b[1;33m\u001b[0m\u001b[0m\n\u001b[0;32m      4\u001b[0m \u001b[1;32mdel\u001b[0m \u001b[0mtup\u001b[0m\u001b[1;33m\u001b[0m\u001b[1;33m\u001b[0m\u001b[0m\n\u001b[1;32m----> 5\u001b[1;33m \u001b[0mprint\u001b[0m\u001b[1;33m(\u001b[0m\u001b[0mtup\u001b[0m\u001b[1;33m)\u001b[0m\u001b[1;33m\u001b[0m\u001b[1;33m\u001b[0m\u001b[0m\n\u001b[0m",
      "\u001b[1;31mNameError\u001b[0m: name 'tup' is not defined"
     ]
    }
   ],
   "source": [
    "## Code for deleting a tuple\n",
    "tup = ( 0, 1)\n",
    "\n",
    "del tup\n",
    "print(tup)\n",
    "# we can't delete particular element in the tuple, but can delete whole tuple"
   ]
  },
  {
   "cell_type": "code",
   "execution_count": 57,
   "metadata": {},
   "outputs": [
    {
     "name": "stdout",
     "output_type": "stream",
     "text": [
      "(1, 2, 3)\n",
      "3\n"
     ]
    }
   ],
   "source": [
    "#Finding the Length of a Python Tuple\n",
    "\n",
    "print(my_tuple)\n",
    "print(len(my_tuple))"
   ]
  },
  {
   "cell_type": "code",
   "execution_count": 58,
   "metadata": {},
   "outputs": [
    {
     "name": "stdout",
     "output_type": "stream",
     "text": [
      "('Prathyusha', 'I', 123)\n"
     ]
    }
   ],
   "source": [
    "#Multiple Data Types With Tuple\n",
    "a=(\"Prathyusha\",'I',123)\n",
    "print(a)"
   ]
  },
  {
   "cell_type": "code",
   "execution_count": 59,
   "metadata": {},
   "outputs": [
    {
     "name": "stdout",
     "output_type": "stream",
     "text": [
      "(1, 2, 3)\n"
     ]
    }
   ],
   "source": [
    "#Converting a List to a Tuple\n",
    "a=[1,2,3]\n",
    "converted_tuple = tuple(a)\n",
    "print(converted_tuple)"
   ]
  },
  {
   "cell_type": "code",
   "execution_count": 72,
   "metadata": {},
   "outputs": [
    {
     "name": "stdout",
     "output_type": "stream",
     "text": [
      "(1, 2)\n",
      "(1, 2)\n",
      "(1, 2)\n",
      "()\n",
      "(1,)\n",
      "(11, 12, 13)\n"
     ]
    }
   ],
   "source": [
    "#Different Ways of Creating a Tuple\n",
    "#1. Using round brackets\n",
    "a=(1,2)\n",
    "print(a)\n",
    "\n",
    "#2.Without Brackets\n",
    "a=1,2\n",
    "print(a)\n",
    "\n",
    "#3.Tuple Constructor\n",
    "\n",
    "a=tuple([1,2])\n",
    "print(a)\n",
    "\n",
    "#4.Empty Tuple\n",
    "a=tuple()\n",
    "print(a)\n",
    "\n",
    "#5.Single Element Tuple\n",
    "a=(1, )\n",
    "print(a)\n",
    "\n",
    "#6. Tuple packing\n",
    "a, b, c = 11, 12, 13\n",
    "tup = (a, b, c)\n",
    "print(tup)"
   ]
  },
  {
   "cell_type": "code",
   "execution_count": 73,
   "metadata": {},
   "outputs": [],
   "source": [
    "############################################## sets ################################################"
   ]
  },
  {
   "cell_type": "code",
   "execution_count": 74,
   "metadata": {},
   "outputs": [],
   "source": [
    "#A Set in Python is used to store a collection of items with the following properties.\n",
    "\n",
    "#No duplicate elements. If try to insert the same item again, it overwrites previous one.\n",
    "#An unordered collection. When we access all items, they are accessed without any specific order and we cannot access items using indexes as we do in lists.\n",
    "#Internally use hashing that makes set efficient for search, insert and delete operations. It gives a major advantage over a list for problems with these operations.\n",
    "#Mutable, meaning we can add or remove elements after their creation, the individual elements within the set cannot be changed directly."
   ]
  },
  {
   "cell_type": "code",
   "execution_count": 76,
   "metadata": {},
   "outputs": [
    {
     "name": "stdout",
     "output_type": "stream",
     "text": [
      "{1, 2, 3}\n",
      "<class 'set'>\n"
     ]
    }
   ],
   "source": [
    "s = {1,2,3}\n",
    "print(s)\n",
    "print(type(s))"
   ]
  },
  {
   "cell_type": "code",
   "execution_count": 79,
   "metadata": {},
   "outputs": [
    {
     "name": "stdout",
     "output_type": "stream",
     "text": [
      "{'c', 'b', 'a'}\n",
      "{'c', 'b', 'a', 'd'}\n"
     ]
    }
   ],
   "source": [
    "s = set([\"a\", \"b\", \"c\"])\n",
    "print(s)\n",
    "\n",
    "# Adding element to the set\n",
    "s.add(\"d\")\n",
    "print(s)"
   ]
  },
  {
   "cell_type": "code",
   "execution_count": 80,
   "metadata": {},
   "outputs": [
    {
     "name": "stdout",
     "output_type": "stream",
     "text": [
      "{'for', 'Geeks'}\n"
     ]
    },
    {
     "ename": "TypeError",
     "evalue": "'set' object does not support item assignment",
     "output_type": "error",
     "traceback": [
      "\u001b[1;31m---------------------------------------------------------------------------\u001b[0m",
      "\u001b[1;31mTypeError\u001b[0m                                 Traceback (most recent call last)",
      "\u001b[1;32m<ipython-input-80-2994b23891fa>\u001b[0m in \u001b[0;36m<module>\u001b[1;34m\u001b[0m\n\u001b[0;32m      8\u001b[0m \u001b[1;33m\u001b[0m\u001b[0m\n\u001b[0;32m      9\u001b[0m \u001b[1;31m# values of a set cannot be changed\u001b[0m\u001b[1;33m\u001b[0m\u001b[1;33m\u001b[0m\u001b[1;33m\u001b[0m\u001b[0m\n\u001b[1;32m---> 10\u001b[1;33m \u001b[0ms\u001b[0m\u001b[1;33m[\u001b[0m\u001b[1;36m1\u001b[0m\u001b[1;33m]\u001b[0m \u001b[1;33m=\u001b[0m \u001b[1;34m\"Hello\"\u001b[0m\u001b[1;33m\u001b[0m\u001b[1;33m\u001b[0m\u001b[0m\n\u001b[0m\u001b[0;32m     11\u001b[0m \u001b[0mprint\u001b[0m\u001b[1;33m(\u001b[0m\u001b[0ms\u001b[0m\u001b[1;33m)\u001b[0m\u001b[1;33m\u001b[0m\u001b[1;33m\u001b[0m\u001b[0m\n",
      "\u001b[1;31mTypeError\u001b[0m: 'set' object does not support item assignment"
     ]
    }
   ],
   "source": [
    "# Python program to demonstrate that\n",
    "# a set cannot have duplicate values \n",
    "# and we cannot change its items\n",
    "\n",
    "# a set cannot have duplicate values\n",
    "s = {\"Geeks\", \"for\", \"Geeks\"}\n",
    "print(s)\n",
    "\n",
    "# values of a set cannot be changed\n",
    "s[1] = \"Hello\"\n",
    "print(s)"
   ]
  },
  {
   "cell_type": "code",
   "execution_count": 81,
   "metadata": {},
   "outputs": [
    {
     "name": "stdout",
     "output_type": "stream",
     "text": [
      "{True, 'for', 'Geeks', 10, 52.7}\n"
     ]
    }
   ],
   "source": [
    "s = {\"Geeks\", \"for\", 10, 52.7, True}\n",
    "print(s)\n",
    "#set can store mixed data types"
   ]
  },
  {
   "cell_type": "code",
   "execution_count": 85,
   "metadata": {},
   "outputs": [
    {
     "name": "stdout",
     "output_type": "stream",
     "text": [
      "{'Amma', 'Prathyu', 'sha', 'Imandi'}\n",
      "{1, 'Imandi', 2, 3, 4, 5, 'sha', 'Prathyu', 'Amma'}\n"
     ]
    }
   ],
   "source": [
    "people = {\"Prathyu\",\"Imandi\",\"sha\"}\n",
    "people.add(\"Amma\")\n",
    "print(people)\n",
    "\n",
    "for i in range(1,6):\n",
    "    people.add(i)\n",
    "print(people)\n",
    "#adding elements to the set"
   ]
  },
  {
   "cell_type": "code",
   "execution_count": 86,
   "metadata": {},
   "outputs": [
    {
     "name": "stdout",
     "output_type": "stream",
     "text": [
      "TVD:  {'Damon', 'stefen', 'Elena', 'klaus'}\n"
     ]
    }
   ],
   "source": [
    "a={\"Elena\",\"stefen\"}\n",
    "b ={\"Damon\",\"klaus\"}\n",
    "c = a.union(b)\n",
    "print(\"TVD: \",c)\n",
    "\n",
    "#combining 2 sets to one set"
   ]
  },
  {
   "cell_type": "code",
   "execution_count": 87,
   "metadata": {},
   "outputs": [
    {
     "name": "stdout",
     "output_type": "stream",
     "text": [
      "{5}\n"
     ]
    }
   ],
   "source": [
    "a={1,2,3,5}\n",
    "b={5,6,7}\n",
    "c=a.intersection(b)\n",
    "print(c)\n",
    "\n",
    "#intersection of 2 sets returns common elements of both sets"
   ]
  },
  {
   "cell_type": "code",
   "execution_count": 88,
   "metadata": {},
   "outputs": [
    {
     "name": "stdout",
     "output_type": "stream",
     "text": [
      "{1, 2, 3, 5}\n",
      "{5, 6, 7}\n",
      "{1, 2, 3}\n"
     ]
    }
   ],
   "source": [
    "#Finding Differences of Sets in Python returns the unique elements of both sets\n",
    "print(a)\n",
    "print(b)\n",
    "c=a.difference(b)\n",
    "print(c)"
   ]
  },
  {
   "cell_type": "code",
   "execution_count": 91,
   "metadata": {},
   "outputs": [
    {
     "name": "stdout",
     "output_type": "stream",
     "text": [
      "{1, 2, 3}\n",
      "set()\n"
     ]
    }
   ],
   "source": [
    "a1={1,2,3}\n",
    "print(a1)\n",
    "a1.clear()\n",
    "print(a1)\n",
    "\n",
    "#clears set"
   ]
  },
  {
   "cell_type": "code",
   "execution_count": 92,
   "metadata": {},
   "outputs": [],
   "source": [
    "############################################## dictionary #############################################"
   ]
  },
  {
   "cell_type": "code",
   "execution_count": 93,
   "metadata": {},
   "outputs": [],
   "source": [
    "#python dictionary is a data structure that stores the value in key: value pairs. Values in a dictionary can be of any data type and can be duplicated, whereas keys can't be repeated and must be immutable."
   ]
  },
  {
   "cell_type": "code",
   "execution_count": 99,
   "metadata": {},
   "outputs": [
    {
     "name": "stdout",
     "output_type": "stream",
     "text": [
      "{'1': 'Prathyusha', '2': 'Elena', '3': 'Prathyusha'}\n"
     ]
    }
   ],
   "source": [
    "d={\"1\":\"Prathyusha\",\"2\":\"Elena\",\"3\":\"Prathyusha\"}\n",
    "print(d)"
   ]
  },
  {
   "cell_type": "code",
   "execution_count": 102,
   "metadata": {},
   "outputs": [
    {
     "name": "stdout",
     "output_type": "stream",
     "text": [
      "{1: 'Prathyu', 2: 'Imandi', 3: 1}\n"
     ]
    }
   ],
   "source": [
    "#Dictionary can be created by placing a sequence of elements within curly {} braces, separated by a 'comma'.\n",
    "\n",
    "d={1:\"Prathyu\",2:\"Imandi\",3:1}\n",
    "print(d)"
   ]
  },
  {
   "cell_type": "code",
   "execution_count": 115,
   "metadata": {},
   "outputs": [
    {
     "name": "stdout",
     "output_type": "stream",
     "text": [
      "prathyusha\n",
      "Imandi\n"
     ]
    }
   ],
   "source": [
    "#Accessing Dictionary Items\n",
    "a={\"name\":\"prathyusha\",\"surname\":\"Imandi\"}\n",
    "print(a[\"name\"])\n",
    "b=a.get(\"surname\")\n",
    "print(b)"
   ]
  },
  {
   "cell_type": "code",
   "execution_count": 119,
   "metadata": {},
   "outputs": [
    {
     "name": "stdout",
     "output_type": "stream",
     "text": [
      "{'name': 'elena', 'color': 'blue'}\n",
      "{'name': 'elena', 'color': 'blue', 'show': 'TVD'}\n"
     ]
    }
   ],
   "source": [
    "#Adding and Updating Dictionary Items\n",
    "a={\"name\": \"Prathyusha\",\"color\":\"blue\"}\n",
    "a[\"name\"] = \"elena\" #updating\n",
    "print(a)\n",
    "\n",
    "a[\"show\"] = \"TVD\" #adding\n",
    "print(a)"
   ]
  },
  {
   "cell_type": "code",
   "execution_count": 127,
   "metadata": {},
   "outputs": [
    {
     "name": "stdout",
     "output_type": "stream",
     "text": [
      "{'name': 'Prathyu', 'show': 'tvd'}\n",
      "{'show': 'tvd', 'color': 'blue'}\n",
      "Key: 2, Value: Imandi\n",
      "{}\n"
     ]
    }
   ],
   "source": [
    "#Removing Dictionary Items\n",
    "\n",
    "#del: Removes an item by key.\n",
    "a={\"name\":\"Prathyu\",\"show\":\"tvd\",\"color\":\"blue\"}\n",
    "del a[\"color\"]\n",
    "print(a)\n",
    "\n",
    "# Using pop() to remove an item and return the value\n",
    "a={\"name\":\"Prathyu\",\"show\":\"tvd\",\"color\":\"blue\"}\n",
    "p = a.pop(\"name\")\n",
    "print(a)\n",
    "\n",
    "# Using popitem to removes and returns\n",
    "# the last key-value pair.\n",
    "key, val = d.popitem()\n",
    "print(f\"Key: {key}, Value: {val}\")\n",
    "\n",
    "#clears the dict\n",
    "a.clear()\n",
    "print(a)"
   ]
  },
  {
   "cell_type": "code",
   "execution_count": 131,
   "metadata": {},
   "outputs": [
    {
     "name": "stdout",
     "output_type": "stream",
     "text": [
      "1\n",
      "2\n",
      "age\n",
      "Geeks\n",
      "For\n",
      "22\n",
      "1 Geeks\n",
      "2 For\n",
      "age 22\n"
     ]
    }
   ],
   "source": [
    "#Iterating Through a Dictionary\n",
    "d = {1: 'Geeks', 2: 'For', 'age':22}\n",
    "for i in d: #iterate through keys\n",
    "    print(i)\n",
    "    \n",
    "for i in d.values():\n",
    "    print(i)\n",
    "    \n",
    "for key,val in d.items():\n",
    "    print(key,val)\n"
   ]
  },
  {
   "cell_type": "code",
   "execution_count": 132,
   "metadata": {},
   "outputs": [],
   "source": [
    "#### tasks ####"
   ]
  },
  {
   "cell_type": "code",
   "execution_count": 139,
   "metadata": {},
   "outputs": [
    {
     "name": "stdout",
     "output_type": "stream",
     "text": [
      "Topper is Prathyusha with 95 marks\n"
     ]
    }
   ],
   "source": [
    "#Store student marks in a dictionary & find topper.\n",
    "\n",
    "marks = {\n",
    "    \"Damon\": 85,\n",
    "    \"Elena\": 92,\n",
    "    \"Charlie\": 78,\n",
    "    \"Prathyusha\": 95,\n",
    "    \"Eva\": 88\n",
    "}\n",
    "\n",
    "# Find topper\n",
    "topper = max(marks, key=marks.get)\n",
    "\n",
    "print(f\"Topper is {topper} with {marks[topper]} marks\")\n"
   ]
  },
  {
   "cell_type": "code",
   "execution_count": 140,
   "metadata": {},
   "outputs": [
    {
     "name": "stdout",
     "output_type": "stream",
     "text": [
      "{1, 2, 3, 4}\n"
     ]
    }
   ],
   "source": [
    "#Remove duplicates from a list using set.\n",
    "\n",
    "my_list=[1,2,3,3,4]\n",
    "converted_set = set(my_list)\n",
    "print(converted_set)"
   ]
  },
  {
   "cell_type": "code",
   "execution_count": 155,
   "metadata": {},
   "outputs": [
    {
     "name": "stdout",
     "output_type": "stream",
     "text": [
      "{'name': 'Prathyu', 'age': 24, 'n': 'Elena', 'a': 28}\n"
     ]
    }
   ],
   "source": [
    "#Merge 2 dictionaries into one.\n",
    "d1={\"name\":\"Prathyu\",\"age\":24}\n",
    "d2={\"n\":\"Elena\",\"a\":28}\n",
    "d1.update(d2)\n",
    "print(d1)"
   ]
  },
  {
   "cell_type": "code",
   "execution_count": 174,
   "metadata": {},
   "outputs": [
    {
     "name": "stdout",
     "output_type": "stream",
     "text": [
      "[('Pra', 30), ('elena', 20), ('Ima', 10)]\n"
     ]
    }
   ],
   "source": [
    "#Given a list of tuples (name, score), sort by score in descending order.\n",
    "my_list = [(\"Pra\",30),(\"Ima\",10),(\"elena\",20)]\n",
    "s = sorted(my_list , key=lambda x: x[1] , reverse = True)\n",
    "print(s)"
   ]
  },
  {
   "cell_type": "code",
   "execution_count": null,
   "metadata": {},
   "outputs": [],
   "source": []
  },
  {
   "cell_type": "code",
   "execution_count": null,
   "metadata": {},
   "outputs": [],
   "source": []
  }
 ],
 "metadata": {
  "kernelspec": {
   "display_name": "Python 3",
   "language": "python",
   "name": "python3"
  },
  "language_info": {
   "codemirror_mode": {
    "name": "ipython",
    "version": 3
   },
   "file_extension": ".py",
   "mimetype": "text/x-python",
   "name": "python",
   "nbconvert_exporter": "python",
   "pygments_lexer": "ipython3",
   "version": "3.7.4"
  }
 },
 "nbformat": 4,
 "nbformat_minor": 2
}
