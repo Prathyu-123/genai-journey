{
 "cells": [
  {
   "cell_type": "code",
   "execution_count": 1,
   "metadata": {},
   "outputs": [],
   "source": [
    "#NumPy is a Python fundamental package used for efficient manipulations and operations on High-level mathematical functions, Multi-dimensional arrays, Linear algebra, Fourier Transformations, Random Number Capabilities, etc. It provides tools for integrating C, C++, and Fortran code in Python. NumPy is mostly used in Python for scientific computing. "
   ]
  },
  {
   "cell_type": "code",
   "execution_count": 18,
   "metadata": {},
   "outputs": [
    {
     "name": "stdout",
     "output_type": "stream",
     "text": [
      "Time taken by Lists : 0.313490629196167 seconds\n",
      "Time taken by NumPy Arrays : 0.011546611785888672 seconds\n"
     ]
    }
   ],
   "source": [
    "# importing required packages\n",
    "import numpy\n",
    "import time\n",
    "\n",
    "# size of arrays and lists\n",
    "size = 1000000   \n",
    "\n",
    "# declaring lists\n",
    "list1 = range(size)\n",
    "list2 = range(size)\n",
    "\n",
    "# declaring arrays\n",
    "array1 = numpy.arange(size)  \n",
    "array2 = numpy.arange(size)\n",
    "\n",
    "# list\n",
    "initialTime = time.time()\n",
    "resultantList = [(a * b) for a, b in zip(list1, list2)]\n",
    "\n",
    "# calculating execution time\n",
    "print(\"Time taken by Lists :\", \n",
    "      (time.time() - initialTime),\n",
    "      \"seconds\")\n",
    "\n",
    "# NumPy array\n",
    "initialTime = time.time()\n",
    "resultantArray = array1 * array2\n",
    "\n",
    "# calculating execution time \n",
    "print(\"Time taken by NumPy Arrays :\",\n",
    "      (time.time() - initialTime),\n",
    "      \"seconds\")\n",
    "\n",
    "#numpy computational speed is faster than lists"
   ]
  },
  {
   "cell_type": "code",
   "execution_count": 19,
   "metadata": {},
   "outputs": [],
   "source": [
    "#Arrays in Numpy\n",
    "#Array in Numpy is a table of elements (usually numbers), all of the same type, indexed by a tuple of positive integers. In Numpy, number of dimensions of the array is called rank of the array. A tuple of integers giving the size of the array along each dimension is known as shape of the array. An array class in Numpy is called as ndarray. Elements in Numpy arrays are accessed by using square brackets and can be initialized by using nested Python Lists."
   ]
  },
  {
   "cell_type": "code",
   "execution_count": 25,
   "metadata": {},
   "outputs": [
    {
     "name": "stdout",
     "output_type": "stream",
     "text": [
      "using rank 1 array [1 2 3]\n",
      "\n",
      " using rank 2 array [[1 2 3]\n",
      " [4 5 6]]\n",
      "using tuple [1 2 3]\n"
     ]
    }
   ],
   "source": [
    "#Creating a Numpy Array\n",
    "import numpy as np\n",
    "#creating rank1 array\n",
    "\n",
    "array1=np.array([1,2,3])\n",
    "print(\"using rank 1 array\",array1)\n",
    "\n",
    "#creating rank 2 array\n",
    "array2=np.array([[1,2,3],[4,5,6]])\n",
    "print(\"\\n using rank 2 array\",array2)\n",
    "\n",
    "#creating using tuple\n",
    "array3 = np.array((1,2,3))\n",
    "print(\"using tuple\",array3)"
   ]
  },
  {
   "cell_type": "code",
   "execution_count": 43,
   "metadata": {},
   "outputs": [
    {
     "name": "stdout",
     "output_type": "stream",
     "text": [
      "[[ 1  2  3  4]\n",
      " [ 2  3  4  5]\n",
      " [ 5  6  7  8]\n",
      " [-1 -2 -3 -4]]\n",
      "\n",
      "\n",
      "[ 3  4  7 -3]\n"
     ]
    }
   ],
   "source": [
    "#accessing the array index\n",
    "#slicing - using slicing we can access index\n",
    "\n",
    "array1=np.array([[1,2,3,4],[2,3,4,5],[5,6,7,8],[-1,-2,-3,-4]])\n",
    "print(array1)\n",
    "print(\"\\n\")\n",
    "\n",
    "#print first row \n",
    "#print(array1[0,:])\n",
    "\n",
    "#Get the second column\n",
    "print(array1[:,2])"
   ]
  },
  {
   "cell_type": "code",
   "execution_count": 48,
   "metadata": {},
   "outputs": [
    {
     "name": "stdout",
     "output_type": "stream",
     "text": [
      "[[2 3]\n",
      " [5 6]]\n"
     ]
    }
   ],
   "source": [
    "import numpy as np\n",
    "\n",
    "matrix = np.array([[1, 2, 3],\n",
    "                   [4, 5, 6],\n",
    "                   [7, 8, 9]])\n",
    "\n",
    "# Slicing a subarray\n",
    "# Get a 2x2 subarray\n",
    "sub_matrix = matrix[0:2,1:3]\n",
    "print(sub_matrix)"
   ]
  },
  {
   "cell_type": "code",
   "execution_count": 49,
   "metadata": {},
   "outputs": [
    {
     "name": "stdout",
     "output_type": "stream",
     "text": [
      "[[0. 0. 0. 0.]\n",
      " [0. 0. 0. 0.]\n",
      " [0. 0. 0. 0.]]\n"
     ]
    }
   ],
   "source": [
    "#numpy.array - we covered above\n",
    "#numpy.zeroes()\n",
    "import numpy as np\n",
    "\n",
    "# Creating a 2D array with 3 rows and 4 columns\n",
    "arr = np.zeros((3, 4))\n",
    "\n",
    "print(arr)"
   ]
  },
  {
   "cell_type": "code",
   "execution_count": 62,
   "metadata": {},
   "outputs": [
    {
     "name": "stdout",
     "output_type": "stream",
     "text": [
      "\n",
      " [1. 1.]\n",
      "\n",
      " [[1 1]\n",
      " [1 1]]\n",
      "[[1 1 1]\n",
      " [1 1 1]\n",
      " [1 1 1]]\n"
     ]
    }
   ],
   "source": [
    "#np.ones():\n",
    "# Python Program illustrating\n",
    "# numpy.ones method\n",
    "\n",
    "import numpy as np\n",
    "\n",
    "b = np.ones(2)\n",
    "\n",
    "\n",
    "print(\"\\n\",b)\n",
    "\n",
    "a = np.ones([2, 2] , dtype=int)\n",
    "print(\"\\n\",a)\n",
    "\n",
    "c = np.ones([3, 3],dtype=int)\n",
    "print(c)"
   ]
  },
  {
   "cell_type": "code",
   "execution_count": 63,
   "metadata": {},
   "outputs": [],
   "source": [
    "#np.arange()\n",
    "a=np.arange(20)"
   ]
  },
  {
   "cell_type": "code",
   "execution_count": 64,
   "metadata": {},
   "outputs": [
    {
     "name": "stdout",
     "output_type": "stream",
     "text": [
      "[ 0  1  2  3  4  5  6  7  8  9 10 11 12 13 14 15 16 17 18 19]\n"
     ]
    }
   ],
   "source": [
    "print(a)"
   ]
  },
  {
   "cell_type": "code",
   "execution_count": 65,
   "metadata": {},
   "outputs": [],
   "source": [
    "b=np.arange(2,20)"
   ]
  },
  {
   "cell_type": "code",
   "execution_count": 66,
   "metadata": {},
   "outputs": [
    {
     "name": "stdout",
     "output_type": "stream",
     "text": [
      "[ 2  3  4  5  6  7  8  9 10 11 12 13 14 15 16 17 18 19]\n"
     ]
    }
   ],
   "source": [
    "print(b)"
   ]
  },
  {
   "cell_type": "code",
   "execution_count": 67,
   "metadata": {},
   "outputs": [
    {
     "name": "stdout",
     "output_type": "stream",
     "text": [
      "[ 2  5  8 11 14 17]\n"
     ]
    }
   ],
   "source": [
    "c=np.arange(2,20,3) #prints from 2 to 20 by stepping 3 like 2, 2+3 , +3 , till 20 and skips 20\n",
    "print(c)"
   ]
  },
  {
   "cell_type": "code",
   "execution_count": 68,
   "metadata": {},
   "outputs": [
    {
     "name": "stdout",
     "output_type": "stream",
     "text": [
      "Floating-Point Sequence: [0.  0.2 0.4 0.6 0.8]\n"
     ]
    }
   ],
   "source": [
    "sequence = np.arange(0, 1, 0.2)\n",
    "print(\"Floating-Point Sequence:\", sequence)"
   ]
  },
  {
   "cell_type": "code",
   "execution_count": 69,
   "metadata": {},
   "outputs": [
    {
     "name": "stdout",
     "output_type": "stream",
     "text": [
      "Filtered array: [12 15 18]\n"
     ]
    }
   ],
   "source": [
    "import numpy as np \n",
    "\n",
    "# Creating a sequence of numbers from 0 to 20 \n",
    "a = np.arange(0, 20, 3)\n",
    "\n",
    "# Filtering the sequence to include only values greater than 10\n",
    "filtered = a[a > 10]\n",
    "print(\"Filtered array:\", filtered)"
   ]
  },
  {
   "cell_type": "code",
   "execution_count": 3,
   "metadata": {},
   "outputs": [
    {
     "name": "stdout",
     "output_type": "stream",
     "text": [
      "[0.         0.11111111 0.22222222 0.33333333 0.44444444 0.55555556\n",
      " 0.66666667 0.77777778 0.88888889 1.        ]\n",
      "[0.         0.03448276 0.06896552 0.10344828 0.13793103 0.17241379\n",
      " 0.20689655 0.24137931 0.27586207 0.31034483 0.34482759 0.37931034\n",
      " 0.4137931  0.44827586 0.48275862 0.51724138 0.55172414 0.5862069\n",
      " 0.62068966 0.65517241 0.68965517 0.72413793 0.75862069 0.79310345\n",
      " 0.82758621 0.86206897 0.89655172 0.93103448 0.96551724 1.        ]\n"
     ]
    }
   ],
   "source": [
    "#np.linspace() linspace() function in NumPy returns an array of evenly spaced numbers over a specified range. Unlike the range() function in Python that generates numbers with a specific step size. linspace() allows you to specify the total number of points you want in the array, and NumPy will calculate the spacing between the numbers automatically.\n",
    "import numpy as np\n",
    "\n",
    "# Generate 10 numbers between 0 and 1\n",
    "array1 = np.linspace(0, 1, num=10) # this prints 10 numbers between 0 and 1\n",
    "array2 = np.linspace(0, 1, num=30) # this prints 30 numbers from 0 to 1 evenly spaced\n",
    "print(array1)\n",
    "print(array2)"
   ]
  },
  {
   "cell_type": "code",
   "execution_count": 4,
   "metadata": {},
   "outputs": [],
   "source": [
    "# Array Operations\n"
   ]
  },
  {
   "cell_type": "code",
   "execution_count": 5,
   "metadata": {},
   "outputs": [
    {
     "name": "stdout",
     "output_type": "stream",
     "text": [
      "[0 1 2]\n",
      "[[ 0  1  2  3]\n",
      " [ 4  5  6  7]\n",
      " [ 8  9 10 11]]\n",
      "[[[ 0  1  2  3]\n",
      "  [ 4  5  6  7]\n",
      "  [ 8  9 10 11]]\n",
      "\n",
      " [[12 13 14 15]\n",
      "  [16 17 18 19]\n",
      "  [20 21 22 23]]]\n"
     ]
    }
   ],
   "source": [
    "#reshape\n",
    "array1 = np.arange(3) #arange() basically gives 1D array\n",
    "print(array1)\n",
    "\n",
    "array2 = np.arange(12).reshape(3,4) # it arranges array as multi dimensional using reshape() here 2D\n",
    "print(array2)\n",
    "\n",
    "array3 = np.arange(24).reshape(2,3,4) # here 3D\n",
    "print(array3)"
   ]
  },
  {
   "cell_type": "code",
   "execution_count": 6,
   "metadata": {},
   "outputs": [
    {
     "data": {
      "text/plain": [
       "12"
      ]
     },
     "execution_count": 6,
     "metadata": {},
     "output_type": "execute_result"
    }
   ],
   "source": [
    "array2.size # it returns size of the array means how many elements are present in the array"
   ]
  },
  {
   "cell_type": "code",
   "execution_count": 7,
   "metadata": {},
   "outputs": [
    {
     "name": "stdout",
     "output_type": "stream",
     "text": [
      "[[ 0  1  2  3]\n",
      " [ 4  5  6  7]\n",
      " [ 8  9 10 11]]\n",
      "(3, 4)\n"
     ]
    }
   ],
   "source": [
    "print(array2)\n",
    "print(array2.shape) #.shape returns shape of an array if 3 roes, 4 columns, then (3,4) it returns.."
   ]
  },
  {
   "cell_type": "code",
   "execution_count": 9,
   "metadata": {},
   "outputs": [
    {
     "data": {
      "text/plain": [
       "2"
      ]
     },
     "execution_count": 9,
     "metadata": {},
     "output_type": "execute_result"
    }
   ],
   "source": [
    "#ndim\n",
    "array2.ndim # ndim returns the dimension of the array , if 2D , returns 2 , if 3D, it returns 3"
   ]
  },
  {
   "cell_type": "code",
   "execution_count": 10,
   "metadata": {},
   "outputs": [],
   "source": [
    "#The flatten() function is used to convert a multi-dimensional NumPy array into a one-dimensional array. It creates a new copy of the data so that original array stays unchanged. If your array has rows and columns or even more dimensions, then flatten() line up every single value into a straight list, one after another"
   ]
  },
  {
   "cell_type": "code",
   "execution_count": 14,
   "metadata": {},
   "outputs": [
    {
     "name": "stdout",
     "output_type": "stream",
     "text": [
      "before: [[ 0  1  2  3]\n",
      " [ 4  5  6  7]\n",
      " [ 8  9 10 11]]\n",
      "after\n"
     ]
    },
    {
     "data": {
      "text/plain": [
       "array([ 0,  1,  2,  3,  4,  5,  6,  7,  8,  9, 10, 11])"
      ]
     },
     "execution_count": 14,
     "metadata": {},
     "output_type": "execute_result"
    }
   ],
   "source": [
    "print(\"before:\",array2)\n",
    "print(\"after\")\n",
    "array2.flatten()"
   ]
  },
  {
   "cell_type": "code",
   "execution_count": 15,
   "metadata": {},
   "outputs": [],
   "source": [
    "# how to flatten two 2D NumPy arrays and then concatenate them into a single 1D array using the concatenate() function from NumPy."
   ]
  },
  {
   "cell_type": "code",
   "execution_count": 19,
   "metadata": {},
   "outputs": [
    {
     "name": "stdout",
     "output_type": "stream",
     "text": [
      "[[ 0  1  2  3]\n",
      " [ 4  5  6  7]\n",
      " [ 8  9 10 11]]\n",
      "[[ 0  1  2  3]\n",
      " [ 4  5  6  7]\n",
      " [ 8  9 10 11]]\n",
      "[ 0  2  4  6  8 10 12 14 16 18 20 22]\n"
     ]
    }
   ],
   "source": [
    "print(array2)\n",
    "print(array2)\n",
    "\n",
    "a=array2.flatten()\n",
    "b=array2.flatten()\n",
    "\n",
    "print(a+b)"
   ]
  },
  {
   "cell_type": "code",
   "execution_count": 20,
   "metadata": {},
   "outputs": [],
   "source": [
    "# Element-wise operations: +, -, *, /"
   ]
  },
  {
   "cell_type": "code",
   "execution_count": 21,
   "metadata": {},
   "outputs": [
    {
     "name": "stdout",
     "output_type": "stream",
     "text": [
      "[0 0 0 0 0 0 0 0 0 0 0 0]\n"
     ]
    }
   ],
   "source": [
    "print(a-b)"
   ]
  },
  {
   "cell_type": "code",
   "execution_count": 22,
   "metadata": {},
   "outputs": [
    {
     "name": "stdout",
     "output_type": "stream",
     "text": [
      "[  0   1   4   9  16  25  36  49  64  81 100 121]\n"
     ]
    }
   ],
   "source": [
    "print(a*b)"
   ]
  },
  {
   "cell_type": "code",
   "execution_count": 24,
   "metadata": {},
   "outputs": [
    {
     "name": "stdout",
     "output_type": "stream",
     "text": [
      "[         1          1          4         27        256       3125\n",
      "      46656     823543   16777216  387420489 1410065408 1843829075]\n"
     ]
    }
   ],
   "source": [
    "print(a**b)"
   ]
  },
  {
   "cell_type": "code",
   "execution_count": 30,
   "metadata": {},
   "outputs": [],
   "source": [
    "#universal functions"
   ]
  },
  {
   "cell_type": "code",
   "execution_count": 31,
   "metadata": {},
   "outputs": [
    {
     "name": "stdout",
     "output_type": "stream",
     "text": [
      "[[ 0  1  2  3]\n",
      " [ 4  5  6  7]\n",
      " [ 8  9 10 11]]\n",
      "5.5\n"
     ]
    }
   ],
   "source": [
    "print(array2)\n",
    "a=np.mean(array2) #mean gives mean value of all the elements in array\n",
    "print(a)"
   ]
  },
  {
   "cell_type": "code",
   "execution_count": 32,
   "metadata": {},
   "outputs": [
    {
     "name": "stdout",
     "output_type": "stream",
     "text": [
      "66\n"
     ]
    }
   ],
   "source": [
    "a=np.sum(array2) # sum() returns sum of all the elements in an array\n",
    "print(a)"
   ]
  },
  {
   "cell_type": "code",
   "execution_count": 34,
   "metadata": {},
   "outputs": [
    {
     "name": "stdout",
     "output_type": "stream",
     "text": [
      "[[      -inf 0.         0.69314718 1.09861229]\n",
      " [1.38629436 1.60943791 1.79175947 1.94591015]\n",
      " [2.07944154 2.19722458 2.30258509 2.39789527]]\n"
     ]
    },
    {
     "name": "stderr",
     "output_type": "stream",
     "text": [
      "C:\\Users\\Prathyusha Imandi\\Anaconda3\\lib\\site-packages\\ipykernel_launcher.py:1: RuntimeWarning: divide by zero encountered in log\n",
      "  \"\"\"Entry point for launching an IPython kernel.\n"
     ]
    }
   ],
   "source": [
    "a=np.log(array2) # log\n",
    "print(a)"
   ]
  },
  {
   "cell_type": "code",
   "execution_count": 35,
   "metadata": {},
   "outputs": [
    {
     "name": "stdout",
     "output_type": "stream",
     "text": [
      "[[0.         1.         1.41421356 1.73205081]\n",
      " [2.         2.23606798 2.44948974 2.64575131]\n",
      " [2.82842712 3.         3.16227766 3.31662479]]\n"
     ]
    }
   ],
   "source": [
    "a=np.sqrt(array2)\n",
    "print(a)"
   ]
  },
  {
   "cell_type": "code",
   "execution_count": 36,
   "metadata": {},
   "outputs": [
    {
     "name": "stdout",
     "output_type": "stream",
     "text": [
      "[[1.00000000e+00 2.71828183e+00 7.38905610e+00 2.00855369e+01]\n",
      " [5.45981500e+01 1.48413159e+02 4.03428793e+02 1.09663316e+03]\n",
      " [2.98095799e+03 8.10308393e+03 2.20264658e+04 5.98741417e+04]]\n"
     ]
    }
   ],
   "source": [
    "a=np.exp(array2) #exponential of array\n",
    "print(a)"
   ]
  },
  {
   "cell_type": "code",
   "execution_count": 37,
   "metadata": {},
   "outputs": [
    {
     "name": "stdout",
     "output_type": "stream",
     "text": [
      "11\n"
     ]
    }
   ],
   "source": [
    "a=np.max(array2) #gives maximum number in an array\n",
    "print(a)"
   ]
  },
  {
   "cell_type": "code",
   "execution_count": 38,
   "metadata": {},
   "outputs": [
    {
     "name": "stdout",
     "output_type": "stream",
     "text": [
      "3.452052529534663\n"
     ]
    }
   ],
   "source": [
    "a=np.std(array2) #standard deviation\n",
    "print(a)"
   ]
  },
  {
   "cell_type": "code",
   "execution_count": 39,
   "metadata": {},
   "outputs": [
    {
     "name": "stdout",
     "output_type": "stream",
     "text": [
      "0\n"
     ]
    }
   ],
   "source": [
    "a=np.min(array2) #minimum number in an array\n",
    "print(a)"
   ]
  },
  {
   "cell_type": "code",
   "execution_count": 41,
   "metadata": {},
   "outputs": [
    {
     "name": "stdout",
     "output_type": "stream",
     "text": [
      "[[0.58018738 0.00906083 0.53679462]\n",
      " [0.75366602 0.16669351 0.47619146]]\n",
      "[[ 1.3286626   0.06537758]\n",
      " [ 0.15297833 -1.51926124]]\n",
      "[[4 6 7]\n",
      " [9 9 9]]\n"
     ]
    }
   ],
   "source": [
    "import numpy as np\n",
    "\n",
    "random_array = np.random.rand(2, 3) #Creates an array of specified shape and fills it with random values sampled from a uniform distribution over [0, 1).\n",
    "normal_array = np.random.randn(2, 2) #Creates an array of specified shape and fills it with random values sampled from a standard normal distribution\n",
    "randint_array = np.random.randint(1, 10, size=(2, 3))  #Creates an array of specified shape and fills it with random integers within a given range.\n",
    "\n",
    "print(random_array)\n",
    "print(normal_array)\n",
    "print(randint_array)"
   ]
  },
  {
   "cell_type": "code",
   "execution_count": 42,
   "metadata": {},
   "outputs": [
    {
     "name": "stdout",
     "output_type": "stream",
     "text": [
      "[[1. 0. 0.]\n",
      " [0. 1. 0.]\n",
      " [0. 0. 1.]]\n"
     ]
    }
   ],
   "source": [
    "#np.eye() creates identity matrix\n",
    "a=np.eye(3)\n",
    "print(a)"
   ]
  },
  {
   "cell_type": "code",
   "execution_count": 43,
   "metadata": {},
   "outputs": [
    {
     "name": "stdout",
     "output_type": "stream",
     "text": [
      "[[1. 0. 0.]\n",
      " [0. 1. 0.]\n",
      " [0. 0. 1.]]\n",
      "[[1 0 0]\n",
      " [0 2 0]\n",
      " [0 0 3]]\n",
      "[[0 0 0]\n",
      " [0 0 0]\n",
      " [0 0 0]]\n",
      "[[1 1 1]\n",
      " [1 1 1]\n",
      " [1 1 1]]\n"
     ]
    }
   ],
   "source": [
    "import numpy as np\n",
    "\n",
    "identity_matrix = np.eye(3)\n",
    "diagonal_array = np.diag([1, 2, 3])\n",
    "zeros_like_array = np.zeros_like(diagonal_array)\n",
    "ones_like_array = np.ones_like(diagonal_array)\n",
    "\n",
    "print(identity_matrix)\n",
    "print(diagonal_array)\n",
    "print(zeros_like_array)\n",
    "print(ones_like_array)"
   ]
  },
  {
   "cell_type": "code",
   "execution_count": 47,
   "metadata": {},
   "outputs": [
    {
     "name": "stdout",
     "output_type": "stream",
     "text": [
      "[33.8, 67.6, 101.39999999999999, 135.2]\n"
     ]
    }
   ],
   "source": [
    "#Convert list of temperatures in °C to °F\n",
    "c=[1,2,3,4]\n",
    "F=[i*33.8 for i in c]\n",
    "print(F)\n"
   ]
  },
  {
   "cell_type": "code",
   "execution_count": 56,
   "metadata": {},
   "outputs": [
    {
     "name": "stdout",
     "output_type": "stream",
     "text": [
      "[[17 29  8]\n",
      " [ 7  6 21]\n",
      " [ 3 13  2]]\n",
      "[8 6 2]\n"
     ]
    }
   ],
   "source": [
    "#Find all even numbers in a NumPy array\n",
    "random_array = np.random.randint(2,30,size=(3,3))\n",
    "print(random_array)\n",
    "\n",
    "print(random_array[random_array%2==0])"
   ]
  },
  {
   "cell_type": "code",
   "execution_count": 61,
   "metadata": {},
   "outputs": [
    {
     "name": "stdout",
     "output_type": "stream",
     "text": [
      "[[1 7 4]\n",
      " [3 8 4]\n",
      " [4 7 2]]\n",
      "[1 7 4 3 8 4 4 7 2]\n"
     ]
    }
   ],
   "source": [
    "#Create a 3×3 matrix with values from 1 to 9 and reshape to 1D\n",
    "a=np.random.randint(1,9,size=(3,3))\n",
    "print(a)\n",
    "\n",
    "b=a.flatten()\n",
    "print(b)"
   ]
  },
  {
   "cell_type": "code",
   "execution_count": 70,
   "metadata": {},
   "outputs": [
    {
     "name": "stdout",
     "output_type": "stream",
     "text": [
      "[[5 4]]\n"
     ]
    }
   ],
   "source": [
    "#Simulate rolling 2 dice 10 times\n",
    "r=np.random.randint(1,6,size=(1,2))\n",
    "print(r)"
   ]
  },
  {
   "cell_type": "code",
   "execution_count": 2,
   "metadata": {},
   "outputs": [
    {
     "name": "stdout",
     "output_type": "stream",
     "text": [
      "=== np.full ===\n",
      "[[7 7 7 7]\n",
      " [7 7 7 7]\n",
      " [7 7 7 7]] \n",
      "\n",
      "=== ravel() vs flatten() ===\n",
      "original shape: (2, 3)\n",
      "flatten(): [1 2 3 4 5 6] type: <class 'numpy.ndarray'>\n",
      "ravel(): [1 2 3 4 5 6] type: <class 'numpy.ndarray'>\n",
      "after modifying ravel view, original b[0,0]: 99\n",
      "after modifying flatten copy, original b[0,0]: 1 \n",
      "\n",
      "=== np.var (variance) and other aggregations ===\n",
      "sum: 55 mean: 5.5 var: 8.25 std: 2.8722813232690143 \n",
      "\n",
      "=== np.random.choice (sampling) ===\n",
      "samples: [30 40 40 30 30] \n",
      "\n",
      "=== Broadcasting example ===\n",
      "A:\n",
      " [[1]\n",
      " [2]\n",
      " [3]]\n",
      "B:\n",
      " [10 20 30]\n",
      "A + B:\n",
      " [[11 21 31]\n",
      " [12 22 32]\n",
      " [13 23 33]] \n",
      "\n",
      "=== np.where usage (conditional replace) ===\n",
      "x: [1 6 3 9 2 8]\n",
      "where(x>5, x, 0): [0 6 0 9 0 8] \n",
      "\n",
      "=== np.random functions quick demo ===\n",
      "rand: [0.64589411 0.43758721 0.891773  ]\n",
      "randn: [-0.10321885  0.4105985   0.14404357]\n",
      "randint 0..9: [8 1 5 9 8]\n"
     ]
    }
   ],
   "source": [
    "\n",
    "import numpy as np\n",
    "\n",
    "print(\"=== np.full ===\")\n",
    "a_full = np.full((3, 4), 7)   # 3x4 array filled with 7\n",
    "print(a_full, \"\\n\")\n",
    "\n",
    "print(\"=== ravel() vs flatten() ===\")\n",
    "b = np.array([[1,2,3],[4,5,6]])\n",
    "print(\"original shape:\", b.shape)\n",
    "print(\"flatten():\", b.flatten(), \"type:\", type(b.flatten()))\n",
    "print(\"ravel():\", b.ravel(), \"type:\", type(b.ravel()))\n",
    "# modify ravel view to show difference (ravel may be view, flatten is copy)\n",
    "r = b.ravel()\n",
    "r[0] = 99\n",
    "print(\"after modifying ravel view, original b[0,0]:\", b[0,0])\n",
    "b = np.array([[1,2,3],[4,5,6]])  # reset\n",
    "f = b.flatten()\n",
    "f[0] = 100\n",
    "print(\"after modifying flatten copy, original b[0,0]:\", b[0,0], \"\\n\")\n",
    "\n",
    "print(\"=== np.var (variance) and other aggregations ===\")\n",
    "arr = np.array([1,2,3,4,5,6,7,8,9,10])\n",
    "print(\"sum:\", np.sum(arr), \"mean:\", np.mean(arr), \"var:\", np.var(arr), \"std:\", np.std(arr), \"\\n\")\n",
    "\n",
    "print(\"=== np.random.choice (sampling) ===\")\n",
    "np.random.seed(0)\n",
    "pool = np.array([10,20,30,40,50])\n",
    "samples = np.random.choice(pool, size=5, replace=True, p=[0.1,0.2,0.3,0.2,0.2])\n",
    "print(\"samples:\", samples, \"\\n\")\n",
    "\n",
    "print(\"=== Broadcasting example ===\")\n",
    "A = np.array([[1],[2],[3]])   # shape (3,1)\n",
    "B = np.array([10,20,30])      # shape (3,)\n",
    "# A + B will broadcast B across columns, result shape (3,3)\n",
    "print(\"A:\\n\", A)\n",
    "print(\"B:\\n\", B)\n",
    "print(\"A + B:\\n\", A + B, \"\\n\")\n",
    "\n",
    "print(\"=== np.where usage (conditional replace) ===\")\n",
    "x = np.array([1, 6, 3, 9, 2, 8])\n",
    "y = np.where(x > 5, x, 0)   # replace values <=5 with 0\n",
    "print(\"x:\", x)\n",
    "print(\"where(x>5, x, 0):\", y, \"\\n\")\n",
    "\n",
    "print(\"=== np.random functions quick demo ===\")\n",
    "print(\"rand:\", np.random.rand(3))\n",
    "print(\"randn:\", np.random.randn(3))\n",
    "print(\"randint 0..9:\", np.random.randint(0,10, size=5))\n"
   ]
  },
  {
   "cell_type": "code",
   "execution_count": null,
   "metadata": {},
   "outputs": [],
   "source": []
  }
 ],
 "metadata": {
  "kernelspec": {
   "display_name": "Python 3",
   "language": "python",
   "name": "python3"
  },
  "language_info": {
   "codemirror_mode": {
    "name": "ipython",
    "version": 3
   },
   "file_extension": ".py",
   "mimetype": "text/x-python",
   "name": "python",
   "nbconvert_exporter": "python",
   "pygments_lexer": "ipython3",
   "version": "3.7.4"
  }
 },
 "nbformat": 4,
 "nbformat_minor": 2
}
