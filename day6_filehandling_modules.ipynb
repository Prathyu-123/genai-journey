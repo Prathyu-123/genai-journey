{
 "cells": [
  {
   "cell_type": "code",
   "execution_count": 1,
   "metadata": {},
   "outputs": [],
   "source": [
    "#file handling : File handling refers to the process of performing operations on a file, such as creating, opening, reading, writing and closing it through a programming interface. It involves managing the data flow between the program and the file system on the storage device, ensuring that data is handled safely and efficiently."
   ]
  },
  {
   "cell_type": "code",
   "execution_count": 2,
   "metadata": {},
   "outputs": [],
   "source": [
    "#why do we need File Handling\n",
    "#To store data permanently, even after the program ends.\n",
    "#To access external files like .txt, .csv, .json, etc.\n",
    "#To process large files efficiently without using much memory.\n",
    "#To automate tasks like reading configs or saving outputs.\n",
    "#To handle input/output in real-world applications and tools."
   ]
  },
  {
   "cell_type": "code",
   "execution_count": 60,
   "metadata": {},
   "outputs": [
    {
     "name": "stdout",
     "output_type": "stream",
     "text": [
      "Desktop\\hi.txt\n"
     ]
    }
   ],
   "source": [
    "#Opening a File in Python\n",
    "#syntax : file = open('filename.txt', 'mode')\n",
    "\n",
    "\n",
    "file = open(r\"Desktop\\hi.txt\")\n",
    "print(file.name)"
   ]
  },
  {
   "cell_type": "code",
   "execution_count": 61,
   "metadata": {},
   "outputs": [
    {
     "name": "stdout",
     "output_type": "stream",
     "text": [
      "file closed ? True\n"
     ]
    }
   ],
   "source": [
    "#Closing a File\n",
    "file = open(r\"Desktop\\hi.txt\")\n",
    "file.close()\n",
    "file_closed = file.closed\n",
    "print(\"file closed ?\",file_closed)"
   ]
  },
  {
   "cell_type": "code",
   "execution_count": 62,
   "metadata": {},
   "outputs": [
    {
     "name": "stdout",
     "output_type": "stream",
     "text": [
      "r\n",
      "Desktop\\hi.txt\n"
     ]
    },
    {
     "data": {
      "text/plain": [
       "<_io.TextIOWrapper name='Desktop\\\\hi.txt' mode='r' encoding='cp1252'>"
      ]
     },
     "execution_count": 62,
     "metadata": {},
     "output_type": "execute_result"
    }
   ],
   "source": [
    "#Checking File Properties\n",
    "file = open(r\"Desktop\\hi.txt\")\n",
    "file_mode = file.mode\n",
    "print(file_mode)\n",
    "file_name = file.name\n",
    "print(file_name)\n",
    "file"
   ]
  },
  {
   "cell_type": "code",
   "execution_count": 63,
   "metadata": {},
   "outputs": [
    {
     "name": "stdout",
     "output_type": "stream",
     "text": [
      "r\n",
      "file closed? True\n"
     ]
    }
   ],
   "source": [
    "#read the file\n",
    "file = open(r\"Desktop\\hi.txt\")\n",
    "content=file.read()  #able to print\n",
    "print(file.mode)\n",
    "file.close()\n",
    "is_file_closed=file.closed\n",
    "print(\"file closed?\",is_file_closed)"
   ]
  },
  {
   "cell_type": "code",
   "execution_count": 32,
   "metadata": {},
   "outputs": [],
   "source": [
    "#Using with Statement\n",
    "#Instead of manually opening and closing the file, you can use the with statement, which automatically handles closing. This reduces the risk of file corruption and resource leakage."
   ]
  },
  {
   "cell_type": "code",
   "execution_count": 64,
   "metadata": {},
   "outputs": [
    {
     "name": "stdout",
     "output_type": "stream",
     "text": [
      "Hi Prathyusha\n",
      "welcome to Python learning\n",
      "is file closed automatically ? True\n"
     ]
    }
   ],
   "source": [
    "with open(r\"Desktop\\hi.txt\") as file:\n",
    "    content=file.read()\n",
    "    print(content)\n",
    "print(\"is file closed automatically ?\",file.closed)"
   ]
  },
  {
   "cell_type": "code",
   "execution_count": 65,
   "metadata": {},
   "outputs": [
    {
     "name": "stdout",
     "output_type": "stream",
     "text": [
      "Hi Prathyusha\n",
      "welcome to Python learning\n",
      "Desktop\\hi.txt\n",
      "True\n"
     ]
    }
   ],
   "source": [
    "#Handling Exceptions When Closing a File\n",
    "try:\n",
    "    file = open(r\"Desktop\\hi.txt\")\n",
    "    content=file.read()\n",
    "    print(content)\n",
    "    print(file.name)\n",
    "finally:\n",
    "    file.close()\n",
    "    print(file.closed)"
   ]
  },
  {
   "cell_type": "code",
   "execution_count": 66,
   "metadata": {},
   "outputs": [
    {
     "name": "stdout",
     "output_type": "stream",
     "text": [
      "firstLine Hi Prathyusha\n",
      "\n"
     ]
    }
   ],
   "source": [
    "#readline() - prints single line in a file\n",
    "file=open(r\"Desktop\\hi.txt\")\n",
    "a=file.readline()\n",
    "print(\"firstLine\",a)\n",
    "file.close()"
   ]
  },
  {
   "cell_type": "code",
   "execution_count": 67,
   "metadata": {},
   "outputs": [
    {
     "name": "stdout",
     "output_type": "stream",
     "text": [
      "['Hi Prathyusha\\n', 'welcome to Python learning']\n"
     ]
    }
   ],
   "source": [
    "#readlines()\n",
    "file=open(r\"Desktop\\hi.txt\")\n",
    "a=file.readlines() #prints all lines as list\n",
    "print(a)\n",
    "file.close()"
   ]
  },
  {
   "cell_type": "code",
   "execution_count": 72,
   "metadata": {},
   "outputs": [
    {
     "name": "stdout",
     "output_type": "stream",
     "text": [
      "data is written\n"
     ]
    }
   ],
   "source": [
    "#write() files\n",
    "file = open(\"Desktop\\hi.txt\",\"w\")\n",
    "name=\"hey,This is Prathyusha\"\n",
    "file.write(name)\n",
    "print(\"data is written\")\n",
    "file.close()"
   ]
  },
  {
   "cell_type": "code",
   "execution_count": 73,
   "metadata": {},
   "outputs": [
    {
     "name": "stdout",
     "output_type": "stream",
     "text": [
      "hey,This is Prathyusha\n"
     ]
    }
   ],
   "source": [
    "#print the contents in a file\n",
    "file = open(r\"Desktop\\hi.txt\")\n",
    "content= file.read()\n",
    "print(content)"
   ]
  },
  {
   "cell_type": "code",
   "execution_count": 92,
   "metadata": {},
   "outputs": [
    {
     "name": "stdout",
     "output_type": "stream",
     "text": [
      "data is written using writelines()\n"
     ]
    }
   ],
   "source": [
    "#writelines()\n",
    "file = open(\"Desktop\\hi.txt\",\"w\")\n",
    "name=\"hello,Prathyusha\"\n",
    "file.writelines(name)\n",
    "print(\"data is written using writelines()\")\n",
    "file.close()\n"
   ]
  },
  {
   "cell_type": "code",
   "execution_count": 93,
   "metadata": {},
   "outputs": [],
   "source": [
    "#append - a\n",
    "\n",
    "file = open(\"Desktop\\hi.txt\",\"a\")\n",
    "file.write(\"appended\")\n",
    "file.close()"
   ]
  },
  {
   "cell_type": "code",
   "execution_count": 94,
   "metadata": {},
   "outputs": [],
   "source": [
    "#The only difference between the write() and writelines() is that write() is used to write a string to an already opened file while writelines() method is used to write a list of strings in an opened file."
   ]
  },
  {
   "cell_type": "code",
   "execution_count": 98,
   "metadata": {},
   "outputs": [
    {
     "name": "stdout",
     "output_type": "stream",
     "text": [
      "b'hello,Prathyushaappended'\n"
     ]
    }
   ],
   "source": [
    "print(content)"
   ]
  },
  {
   "cell_type": "code",
   "execution_count": 96,
   "metadata": {},
   "outputs": [
    {
     "name": "stdout",
     "output_type": "stream",
     "text": [
      "file already exists. Cannot overwrite.\n"
     ]
    }
   ],
   "source": [
    "# x - if file exist , throws err , if file doesn;t exist create and write the content\n",
    "try:\n",
    "    with open(\"Desktop\\hi.txt\", 'x') as file:\n",
    "        file.write(\"hii Prathyu\")\n",
    "        print(\"hi.txt created successfully.\")\n",
    "except FileExistsError:\n",
    "    print(\"file already exists. Cannot overwrite.\")"
   ]
  },
  {
   "cell_type": "code",
   "execution_count": 100,
   "metadata": {},
   "outputs": [],
   "source": [
    "#wb - write binary \n",
    "file = open(\"Desktop\\hi.txt\",\"wb\")\n",
    "file.write(b'\\x00\\x10\\xFF\\xEE')\n",
    "\n",
    "file.close()"
   ]
  },
  {
   "cell_type": "code",
   "execution_count": 102,
   "metadata": {},
   "outputs": [
    {
     "name": "stdout",
     "output_type": "stream",
     "text": [
      "b'\\x00\\x10\\xff\\xee'\n"
     ]
    }
   ],
   "source": [
    "#rb - read binary\n",
    "file = open(\"Desktop\\hi.txt\",\"rb\")\n",
    "content= file.read()\n",
    "print(content)"
   ]
  },
  {
   "cell_type": "code",
   "execution_count": 104,
   "metadata": {},
   "outputs": [],
   "source": [
    "# w- ovveride content\n",
    "file = open(\"Desktop\\hi.txt\",\"w\")\n",
    "file.write(\"Hello Prathyusha\")\n",
    "\n",
    "file.close()"
   ]
  },
  {
   "cell_type": "code",
   "execution_count": 105,
   "metadata": {},
   "outputs": [
    {
     "name": "stdout",
     "output_type": "stream",
     "text": [
      "Hello Prathyusha\n"
     ]
    }
   ],
   "source": [
    "#read the content\n",
    "file = open(r\"Desktop\\hi.txt\")\n",
    "content= file.read()\n",
    "print(content)"
   ]
  },
  {
   "cell_type": "code",
   "execution_count": 106,
   "metadata": {},
   "outputs": [],
   "source": [
    "###### os module*****"
   ]
  },
  {
   "cell_type": "code",
   "execution_count": 107,
   "metadata": {},
   "outputs": [
    {
     "name": "stdout",
     "output_type": "stream",
     "text": [
      "C:\\Users\\Prathyusha Imandi\n"
     ]
    }
   ],
   "source": [
    "#get current working directory\n",
    "import os\n",
    "cwd = os.getcwd()\n",
    "print(cwd)"
   ]
  },
  {
   "cell_type": "code",
   "execution_count": 115,
   "metadata": {},
   "outputs": [
    {
     "name": "stdout",
     "output_type": "stream",
     "text": [
      "C:\\Users\n"
     ]
    }
   ],
   "source": [
    "#Changing the Current working directory\n",
    "change_directoy=os.chdir(\"../\")\n",
    "print(os.getcwd())"
   ]
  },
  {
   "cell_type": "code",
   "execution_count": 126,
   "metadata": {},
   "outputs": [
    {
     "name": "stdout",
     "output_type": "stream",
     "text": [
      "Directory 'new1' created\n",
      "Directory 'Geeks' created\n"
     ]
    }
   ],
   "source": [
    "#mkdir - create a directory\n",
    "import os\n",
    "directory = \"new1\"\n",
    "parent_dir = \"C:/Users/Prathyusha Imandi\"\n",
    "path = os.path.join(parent_dir, directory)\n",
    "\n",
    "os.mkdir(path)\n",
    "print(\"Directory '% s' created\" % directory)\n",
    "directory = \"Geeks\"\n",
    "parent_dir = \"C:/Users/Prathyusha Imandi\"\n",
    "mode = 0o666\n",
    "path = os.path.join(parent_dir, directory)\n",
    "os.mkdir(path, mode)\n",
    "print(\"Directory '% s' created\" % directory)"
   ]
  },
  {
   "cell_type": "code",
   "execution_count": 127,
   "metadata": {},
   "outputs": [
    {
     "name": "stdout",
     "output_type": "stream",
     "text": [
      "Files and directories in ' / ' :\n",
      "['$Recycle.Bin', '$SysReset', '$WINRE_BACKUP_PARTITION.MARKER', 'Config.Msi', 'devlist.txt', 'Documents and Settings', 'DRIVERS', 'DumpStack.log', 'DumpStack.log.tmp', 'eSupport', 'Finish.log', 'hiberfil.sys', 'inetpub', 'Intel', 'IntelOptaneData', 'MSOCache', 'OneDriveTemp', 'pagefile.sys', 'PerfLogs', 'Program Files', 'Program Files (x86)', 'ProgramData', 'Recovery', 'swapfile.sys', 'System Volume Information', 'Users', 'Windows', 'xampp']\n"
     ]
    }
   ],
   "source": [
    "#Listing out Files and Directories with Python\n",
    "import os \n",
    "path = \"/\"\n",
    "dir_list = os.listdir(path) \n",
    "print(\"Files and directories in '\", path, \"' :\") \n",
    "print(dir_list) "
   ]
  },
  {
   "cell_type": "code",
   "execution_count": 128,
   "metadata": {},
   "outputs": [],
   "source": [
    "#Deleting Directory or Files using Python\n",
    "import os \n",
    "directory = \"Geeks\"\n",
    "parent =\"C:/Users/Prathyusha Imandi\"\n",
    "path = os.path.join(parent, directory) \n",
    "os.rmdir(path) "
   ]
  },
  {
   "cell_type": "code",
   "execution_count": 130,
   "metadata": {},
   "outputs": [],
   "source": [
    "os.chdir(\"Prathyusha Imandi\")"
   ]
  },
  {
   "cell_type": "code",
   "execution_count": 131,
   "metadata": {},
   "outputs": [
    {
     "data": {
      "text/plain": [
       "'C:\\\\Users\\\\Prathyusha Imandi'"
      ]
     },
     "execution_count": 131,
     "metadata": {},
     "output_type": "execute_result"
    }
   ],
   "source": [
    "os.getcwd()\n"
   ]
  },
  {
   "cell_type": "code",
   "execution_count": 134,
   "metadata": {},
   "outputs": [
    {
     "ename": "FileNotFoundError",
     "evalue": "[WinError 3] The system cannot find the path specified: 'C:/Users/Prathyusha Imandi\\\\Geeks'",
     "output_type": "error",
     "traceback": [
      "\u001b[1;31m---------------------------------------------------------------------------\u001b[0m",
      "\u001b[1;31mFileNotFoundError\u001b[0m                         Traceback (most recent call last)",
      "\u001b[1;32m<ipython-input-134-49d4fc714aa1>\u001b[0m in \u001b[0;36m<module>\u001b[1;34m\u001b[0m\n\u001b[1;32m----> 1\u001b[1;33m \u001b[0mdir_list\u001b[0m \u001b[1;33m=\u001b[0m \u001b[0mos\u001b[0m\u001b[1;33m.\u001b[0m\u001b[0mlistdir\u001b[0m\u001b[1;33m(\u001b[0m\u001b[0mpath\u001b[0m\u001b[1;33m)\u001b[0m\u001b[1;33m\u001b[0m\u001b[1;33m\u001b[0m\u001b[0m\n\u001b[0m\u001b[0;32m      2\u001b[0m \u001b[1;31m#Geeks is deleted, that's why can't specify\u001b[0m\u001b[1;33m\u001b[0m\u001b[1;33m\u001b[0m\u001b[1;33m\u001b[0m\u001b[0m\n",
      "\u001b[1;31mFileNotFoundError\u001b[0m: [WinError 3] The system cannot find the path specified: 'C:/Users/Prathyusha Imandi\\\\Geeks'"
     ]
    }
   ],
   "source": [
    "dir_list = os.listdir(path)\n",
    "#Geeks is deleted, that's why can't specify"
   ]
  },
  {
   "cell_type": "code",
   "execution_count": 135,
   "metadata": {},
   "outputs": [],
   "source": [
    "#files also we can remove using os.remove() function"
   ]
  },
  {
   "cell_type": "code",
   "execution_count": 154,
   "metadata": {},
   "outputs": [],
   "source": [
    "#file permissions\n",
    "os.chmod(\"Desktop\\hi.txt\", 0o777)\n",
    "#Explanation: 0o600 means:\n",
    "\n",
    "#Owner: Read & write\n",
    "#Group: No permission\n",
    "#Others: No permission"
   ]
  },
  {
   "cell_type": "code",
   "execution_count": 155,
   "metadata": {},
   "outputs": [],
   "source": [
    "#os.chmod() method is used to change the permissions (read, write, execute) of a file or directory. Permissions must be passed in octal format (e.g., 0o600)."
   ]
  },
  {
   "cell_type": "code",
   "execution_count": 156,
   "metadata": {},
   "outputs": [
    {
     "ename": "AttributeError",
     "evalue": "module 'os' has no attribute 'chown'",
     "output_type": "error",
     "traceback": [
      "\u001b[1;31m---------------------------------------------------------------------------\u001b[0m",
      "\u001b[1;31mAttributeError\u001b[0m                            Traceback (most recent call last)",
      "\u001b[1;32m<ipython-input-156-6ba35acbd833>\u001b[0m in \u001b[0;36m<module>\u001b[1;34m\u001b[0m\n\u001b[0;32m      2\u001b[0m \u001b[1;33m\u001b[0m\u001b[0m\n\u001b[0;32m      3\u001b[0m \u001b[1;31m# Change owner and group to user ID 1000 and group ID 1000\u001b[0m\u001b[1;33m\u001b[0m\u001b[1;33m\u001b[0m\u001b[1;33m\u001b[0m\u001b[0m\n\u001b[1;32m----> 4\u001b[1;33m \u001b[0mos\u001b[0m\u001b[1;33m.\u001b[0m\u001b[0mchown\u001b[0m\u001b[1;33m(\u001b[0m\u001b[1;34m\"Desktop\\hi.txt\"\u001b[0m\u001b[1;33m,\u001b[0m \u001b[1;36m1000\u001b[0m\u001b[1;33m,\u001b[0m \u001b[1;36m1000\u001b[0m\u001b[1;33m)\u001b[0m\u001b[1;33m\u001b[0m\u001b[1;33m\u001b[0m\u001b[0m\n\u001b[0m\u001b[0;32m      5\u001b[0m \u001b[1;31m# It is used in Unix/Linux systems only.\u001b[0m\u001b[1;33m\u001b[0m\u001b[1;33m\u001b[0m\u001b[1;33m\u001b[0m\u001b[0m\n",
      "\u001b[1;31mAttributeError\u001b[0m: module 'os' has no attribute 'chown'"
     ]
    }
   ],
   "source": [
    "import os\n",
    "\n",
    "# Change owner and group to user ID 1000 and group ID 1000\n",
    "os.chown(\"Desktop\\hi.txt\", 1000, 1000)\n",
    "# It is used in Unix/Linux systems only."
   ]
  },
  {
   "cell_type": "code",
   "execution_count": 157,
   "metadata": {},
   "outputs": [],
   "source": [
    "#os.stat() method is used to retrieve metadata about a file such as its size, permissions, and timestamps."
   ]
  },
  {
   "cell_type": "code",
   "execution_count": 158,
   "metadata": {},
   "outputs": [
    {
     "name": "stdout",
     "output_type": "stream",
     "text": [
      "nt\n"
     ]
    }
   ],
   "source": [
    "#Commonly Used Functions\n",
    "#Using os.name function\n",
    "import os\n",
    "print(os.name)"
   ]
  },
  {
   "cell_type": "code",
   "execution_count": 159,
   "metadata": {},
   "outputs": [
    {
     "name": "stdout",
     "output_type": "stream",
     "text": [
      "Hello\n"
     ]
    }
   ],
   "source": [
    "#Using os.error Function\n",
    "#All functions in this module raise OSError in the case of invalid or inaccessible file names and paths, or other arguments that have the correct type, but are not accepted by the operating system. os.error is an alias for built-in OSError exception.\n",
    "import os\n",
    "try:\n",
    "    filename = 'Desktop\\hi.txt'\n",
    "    f = open(filename, 'r')\n",
    "    text = f.read()\n",
    "    print(text)\n",
    "    f.close()\n",
    "except IOError:\n",
    "  print('Problem reading: ' + filename)"
   ]
  },
  {
   "cell_type": "code",
   "execution_count": 160,
   "metadata": {},
   "outputs": [
    {
     "name": "stdout",
     "output_type": "stream",
     "text": [
      "Hello\n"
     ]
    },
    {
     "data": {
      "text/plain": [
       "5"
      ]
     },
     "execution_count": 160,
     "metadata": {},
     "output_type": "execute_result"
    }
   ],
   "source": [
    "#Using os.popen() Function\n",
    "#This method opens a pipe to or from command. The return value can be read or written depending on whether the mode is 'r' or 'w'. \n",
    "\n",
    "#Syntax: \n",
    "\n",
    "# os.popen(command[, mode[, bufsize]])\n",
    "\n",
    "import os\n",
    "fd = \"Desktop\\hi.txt\"\n",
    "\n",
    "file = open(fd, 'w')\n",
    "file.write(\"Hello\")\n",
    "file.close()\n",
    "file = open(fd, 'r')\n",
    "text = file.read()\n",
    "print(text)\n",
    "\n",
    "file = os.popen(fd, 'w')\n",
    "file.write(\"Hello\")"
   ]
  },
  {
   "cell_type": "code",
   "execution_count": 162,
   "metadata": {},
   "outputs": [
    {
     "name": "stdout",
     "output_type": "stream",
     "text": [
      "Hello\n"
     ]
    },
    {
     "ename": "TypeError",
     "evalue": "an integer is required (got type _io.TextIOWrapper)",
     "output_type": "error",
     "traceback": [
      "\u001b[1;31m---------------------------------------------------------------------------\u001b[0m",
      "\u001b[1;31mTypeError\u001b[0m                                 Traceback (most recent call last)",
      "\u001b[1;32m<ipython-input-162-2b8538553b9f>\u001b[0m in \u001b[0;36m<module>\u001b[1;34m\u001b[0m\n\u001b[0;32m      5\u001b[0m \u001b[0mtext\u001b[0m \u001b[1;33m=\u001b[0m \u001b[0mfile\u001b[0m\u001b[1;33m.\u001b[0m\u001b[0mread\u001b[0m\u001b[1;33m(\u001b[0m\u001b[1;33m)\u001b[0m\u001b[1;33m\u001b[0m\u001b[1;33m\u001b[0m\u001b[0m\n\u001b[0;32m      6\u001b[0m \u001b[0mprint\u001b[0m\u001b[1;33m(\u001b[0m\u001b[0mtext\u001b[0m\u001b[1;33m)\u001b[0m\u001b[1;33m\u001b[0m\u001b[1;33m\u001b[0m\u001b[0m\n\u001b[1;32m----> 7\u001b[1;33m \u001b[0mos\u001b[0m\u001b[1;33m.\u001b[0m\u001b[0mclose\u001b[0m\u001b[1;33m(\u001b[0m\u001b[0mfile\u001b[0m\u001b[1;33m)\u001b[0m\u001b[1;33m\u001b[0m\u001b[1;33m\u001b[0m\u001b[0m\n\u001b[0m",
      "\u001b[1;31mTypeError\u001b[0m: an integer is required (got type _io.TextIOWrapper)"
     ]
    }
   ],
   "source": [
    "#A file opened using open(), can be closed by close() only. But file opened through os.popen(), can be closed with close() or os.close(). If we try closing a file opened with open(), using os.close(), Python would throw TypeError. \n",
    "import os\n",
    "fd = \"Desktop/hi.txt\"\n",
    "file = open(fd, 'r')\n",
    "text = file.read()\n",
    "print(text)\n",
    "os.close(file)"
   ]
  },
  {
   "cell_type": "code",
   "execution_count": 163,
   "metadata": {},
   "outputs": [],
   "source": [
    "#A file \"old.txt\" can be renamed to \"new.txt\", using the function os.rename(). The name of the file changes only if, the file exists and the user has sufficient privilege permission to change the file."
   ]
  },
  {
   "cell_type": "code",
   "execution_count": 1,
   "metadata": {},
   "outputs": [],
   "source": [
    "################# 2. reading data from text, csv , json #######################"
   ]
  },
  {
   "cell_type": "code",
   "execution_count": null,
   "metadata": {},
   "outputs": [],
   "source": [
    "#reading the text file: we already covered above\n",
    "Test files are the widely used forms of data. In Python, we have a function to access the text files and that is the open() function. We also have different modes of accessing like:\n",
    "1. ‘r’: reading from a file\n",
    "2. ‘w’: writing to a file\n",
    "3. ‘r+’ or ‘w+’: read and write to a file\n",
    "4. ‘a’: appending to an already existing file\n",
    "5. ‘a+’: append to a file after reading"
   ]
  },
  {
   "cell_type": "code",
   "execution_count": 3,
   "metadata": {},
   "outputs": [],
   "source": [
    "#Reading Data from CSV file\n",
    "# To access the data from a CSV file, we can use the pandas module. "
   ]
  },
  {
   "cell_type": "code",
   "execution_count": 2,
   "metadata": {},
   "outputs": [
    {
     "data": {
      "text/html": [
       "<div>\n",
       "<style scoped>\n",
       "    .dataframe tbody tr th:only-of-type {\n",
       "        vertical-align: middle;\n",
       "    }\n",
       "\n",
       "    .dataframe tbody tr th {\n",
       "        vertical-align: top;\n",
       "    }\n",
       "\n",
       "    .dataframe thead th {\n",
       "        text-align: right;\n",
       "    }\n",
       "</style>\n",
       "<table border=\"1\" class=\"dataframe\">\n",
       "  <thead>\n",
       "    <tr style=\"text-align: right;\">\n",
       "      <th></th>\n",
       "      <th>PassengerId</th>\n",
       "      <th>Survived</th>\n",
       "      <th>Pclass</th>\n",
       "      <th>Name</th>\n",
       "      <th>Sex</th>\n",
       "      <th>Age</th>\n",
       "      <th>SibSp</th>\n",
       "      <th>Parch</th>\n",
       "      <th>Ticket</th>\n",
       "      <th>Fare</th>\n",
       "      <th>Cabin</th>\n",
       "      <th>Embarked</th>\n",
       "    </tr>\n",
       "  </thead>\n",
       "  <tbody>\n",
       "    <tr>\n",
       "      <td>0</td>\n",
       "      <td>1</td>\n",
       "      <td>0</td>\n",
       "      <td>3</td>\n",
       "      <td>Braund, Mr. Owen Harris</td>\n",
       "      <td>male</td>\n",
       "      <td>23.0</td>\n",
       "      <td>1</td>\n",
       "      <td>0</td>\n",
       "      <td>A/5 21171</td>\n",
       "      <td>7.2500</td>\n",
       "      <td>NaN</td>\n",
       "      <td>S</td>\n",
       "    </tr>\n",
       "    <tr>\n",
       "      <td>1</td>\n",
       "      <td>2</td>\n",
       "      <td>1</td>\n",
       "      <td>1</td>\n",
       "      <td>Cumings, Mrs. John Bradley (Florence Briggs Th...</td>\n",
       "      <td>female</td>\n",
       "      <td>38.0</td>\n",
       "      <td>1</td>\n",
       "      <td>0</td>\n",
       "      <td>PC 17599</td>\n",
       "      <td>71.2833</td>\n",
       "      <td>C85</td>\n",
       "      <td>C</td>\n",
       "    </tr>\n",
       "    <tr>\n",
       "      <td>2</td>\n",
       "      <td>3</td>\n",
       "      <td>1</td>\n",
       "      <td>3</td>\n",
       "      <td>Heikkinen, Miss. Laina</td>\n",
       "      <td>female</td>\n",
       "      <td>26.0</td>\n",
       "      <td>0</td>\n",
       "      <td>0</td>\n",
       "      <td>STON/O2. 3101282</td>\n",
       "      <td>7.9250</td>\n",
       "      <td>NaN</td>\n",
       "      <td>S</td>\n",
       "    </tr>\n",
       "    <tr>\n",
       "      <td>3</td>\n",
       "      <td>4</td>\n",
       "      <td>1</td>\n",
       "      <td>1</td>\n",
       "      <td>Futrelle, Mrs. Jacques Heath (Lily May Peel)</td>\n",
       "      <td>female</td>\n",
       "      <td>35.0</td>\n",
       "      <td>1</td>\n",
       "      <td>0</td>\n",
       "      <td>113803</td>\n",
       "      <td>53.1000</td>\n",
       "      <td>C123</td>\n",
       "      <td>S</td>\n",
       "    </tr>\n",
       "    <tr>\n",
       "      <td>4</td>\n",
       "      <td>5</td>\n",
       "      <td>0</td>\n",
       "      <td>3</td>\n",
       "      <td>Allen, Mr. William Henry</td>\n",
       "      <td>male</td>\n",
       "      <td>35.0</td>\n",
       "      <td>0</td>\n",
       "      <td>0</td>\n",
       "      <td>373450</td>\n",
       "      <td>8.0500</td>\n",
       "      <td>NaN</td>\n",
       "      <td>S</td>\n",
       "    </tr>\n",
       "  </tbody>\n",
       "</table>\n",
       "</div>"
      ],
      "text/plain": [
       "   PassengerId  Survived  Pclass  \\\n",
       "0            1         0       3   \n",
       "1            2         1       1   \n",
       "2            3         1       3   \n",
       "3            4         1       1   \n",
       "4            5         0       3   \n",
       "\n",
       "                                                Name     Sex   Age  SibSp  \\\n",
       "0                            Braund, Mr. Owen Harris    male  23.0      1   \n",
       "1  Cumings, Mrs. John Bradley (Florence Briggs Th...  female  38.0      1   \n",
       "2                             Heikkinen, Miss. Laina  female  26.0      0   \n",
       "3       Futrelle, Mrs. Jacques Heath (Lily May Peel)  female  35.0      1   \n",
       "4                           Allen, Mr. William Henry    male  35.0      0   \n",
       "\n",
       "   Parch            Ticket     Fare Cabin Embarked  \n",
       "0      0         A/5 21171   7.2500   NaN        S  \n",
       "1      0          PC 17599  71.2833   C85        C  \n",
       "2      0  STON/O2. 3101282   7.9250   NaN        S  \n",
       "3      0            113803  53.1000  C123        S  \n",
       "4      0            373450   8.0500   NaN        S  "
      ]
     },
     "execution_count": 2,
     "metadata": {},
     "output_type": "execute_result"
    }
   ],
   "source": [
    "import pandas as pd #importing the pandas module\n",
    "# reading the csv file into a DataFrame. ‘R’ represent read mode\n",
    "df = pd.read_csv(r\"C:\\\\Users\\\\Prathyusha Imandi\\\\Desktop\\\\titanic.csv\")\n",
    "# displaying the DataFrame , head prints first 5 rows\n",
    "df.head()\n",
    "df.loc[0,\"Age\"] = 23.0 #update the particular value using loc function\n",
    "df.head()"
   ]
  },
  {
   "cell_type": "code",
   "execution_count": 46,
   "metadata": {},
   "outputs": [
    {
     "data": {
      "text/html": [
       "<div>\n",
       "<style scoped>\n",
       "    .dataframe tbody tr th:only-of-type {\n",
       "        vertical-align: middle;\n",
       "    }\n",
       "\n",
       "    .dataframe tbody tr th {\n",
       "        vertical-align: top;\n",
       "    }\n",
       "\n",
       "    .dataframe thead th {\n",
       "        text-align: right;\n",
       "    }\n",
       "</style>\n",
       "<table border=\"1\" class=\"dataframe\">\n",
       "  <thead>\n",
       "    <tr style=\"text-align: right;\">\n",
       "      <th></th>\n",
       "      <th>PassengerId</th>\n",
       "      <th>Survived</th>\n",
       "      <th>Pclass</th>\n",
       "      <th>Name</th>\n",
       "      <th>Sex</th>\n",
       "      <th>Age</th>\n",
       "      <th>SibSp</th>\n",
       "      <th>Parch</th>\n",
       "      <th>Ticket</th>\n",
       "      <th>Fare</th>\n",
       "      <th>Cabin</th>\n",
       "      <th>Embarked</th>\n",
       "    </tr>\n",
       "  </thead>\n",
       "  <tbody>\n",
       "    <tr>\n",
       "      <td>1</td>\n",
       "      <td>2</td>\n",
       "      <td>1</td>\n",
       "      <td>1</td>\n",
       "      <td>Cumings, Mrs. John Bradley (Florence Briggs Th...</td>\n",
       "      <td>female</td>\n",
       "      <td>38.0</td>\n",
       "      <td>1</td>\n",
       "      <td>0</td>\n",
       "      <td>PC 17599</td>\n",
       "      <td>71.2833</td>\n",
       "      <td>C85</td>\n",
       "      <td>C</td>\n",
       "    </tr>\n",
       "    <tr>\n",
       "      <td>2</td>\n",
       "      <td>3</td>\n",
       "      <td>1</td>\n",
       "      <td>3</td>\n",
       "      <td>Heikkinen, Miss. Laina</td>\n",
       "      <td>female</td>\n",
       "      <td>26.0</td>\n",
       "      <td>0</td>\n",
       "      <td>0</td>\n",
       "      <td>STON/O2. 3101282</td>\n",
       "      <td>7.9250</td>\n",
       "      <td>NaN</td>\n",
       "      <td>S</td>\n",
       "    </tr>\n",
       "    <tr>\n",
       "      <td>3</td>\n",
       "      <td>4</td>\n",
       "      <td>1</td>\n",
       "      <td>1</td>\n",
       "      <td>Futrelle, Mrs. Jacques Heath (Lily May Peel)</td>\n",
       "      <td>female</td>\n",
       "      <td>35.0</td>\n",
       "      <td>1</td>\n",
       "      <td>0</td>\n",
       "      <td>113803</td>\n",
       "      <td>53.1000</td>\n",
       "      <td>C123</td>\n",
       "      <td>S</td>\n",
       "    </tr>\n",
       "  </tbody>\n",
       "</table>\n",
       "</div>"
      ],
      "text/plain": [
       "   PassengerId  Survived  Pclass  \\\n",
       "1            2         1       1   \n",
       "2            3         1       3   \n",
       "3            4         1       1   \n",
       "\n",
       "                                                Name     Sex   Age  SibSp  \\\n",
       "1  Cumings, Mrs. John Bradley (Florence Briggs Th...  female  38.0      1   \n",
       "2                             Heikkinen, Miss. Laina  female  26.0      0   \n",
       "3       Futrelle, Mrs. Jacques Heath (Lily May Peel)  female  35.0      1   \n",
       "\n",
       "   Parch            Ticket     Fare Cabin Embarked  \n",
       "1      0          PC 17599  71.2833   C85        C  \n",
       "2      0  STON/O2. 3101282   7.9250   NaN        S  \n",
       "3      0            113803  53.1000  C123        S  "
      ]
     },
     "execution_count": 46,
     "metadata": {},
     "output_type": "execute_result"
    }
   ],
   "source": [
    "#Reading certain rows df[1:3]\n",
    "df[1:4] #prints row 1 to (4-1)"
   ]
  },
  {
   "cell_type": "code",
   "execution_count": 17,
   "metadata": {},
   "outputs": [
    {
     "data": {
      "text/html": [
       "<div>\n",
       "<style scoped>\n",
       "    .dataframe tbody tr th:only-of-type {\n",
       "        vertical-align: middle;\n",
       "    }\n",
       "\n",
       "    .dataframe tbody tr th {\n",
       "        vertical-align: top;\n",
       "    }\n",
       "\n",
       "    .dataframe thead th {\n",
       "        text-align: right;\n",
       "    }\n",
       "</style>\n",
       "<table border=\"1\" class=\"dataframe\">\n",
       "  <thead>\n",
       "    <tr style=\"text-align: right;\">\n",
       "      <th></th>\n",
       "      <th>Survived</th>\n",
       "      <th>Pclass</th>\n",
       "    </tr>\n",
       "  </thead>\n",
       "  <tbody>\n",
       "    <tr>\n",
       "      <td>3</td>\n",
       "      <td>1</td>\n",
       "      <td>1</td>\n",
       "    </tr>\n",
       "    <tr>\n",
       "      <td>4</td>\n",
       "      <td>0</td>\n",
       "      <td>3</td>\n",
       "    </tr>\n",
       "    <tr>\n",
       "      <td>5</td>\n",
       "      <td>0</td>\n",
       "      <td>3</td>\n",
       "    </tr>\n",
       "  </tbody>\n",
       "</table>\n",
       "</div>"
      ],
      "text/plain": [
       "   Survived  Pclass\n",
       "3         1       1\n",
       "4         0       3\n",
       "5         0       3"
      ]
     },
     "execution_count": 17,
     "metadata": {},
     "output_type": "execute_result"
    }
   ],
   "source": [
    "#Reading certain columns using loc method\n",
    "df.loc[3:5,[\"Survived\",\"Pclass\"]] # df.loc[from_which_row:to which row,[\"all coumn names\"]]\n"
   ]
  },
  {
   "cell_type": "code",
   "execution_count": 18,
   "metadata": {},
   "outputs": [],
   "source": [
    "#Reading from Excel File"
   ]
  },
  {
   "cell_type": "code",
   "execution_count": 29,
   "metadata": {},
   "outputs": [
    {
     "data": {
      "text/html": [
       "<div>\n",
       "<style scoped>\n",
       "    .dataframe tbody tr th:only-of-type {\n",
       "        vertical-align: middle;\n",
       "    }\n",
       "\n",
       "    .dataframe tbody tr th {\n",
       "        vertical-align: top;\n",
       "    }\n",
       "\n",
       "    .dataframe thead th {\n",
       "        text-align: right;\n",
       "    }\n",
       "</style>\n",
       "<table border=\"1\" class=\"dataframe\">\n",
       "  <thead>\n",
       "    <tr style=\"text-align: right;\">\n",
       "      <th></th>\n",
       "      <th>Unnamed: 0</th>\n",
       "      <th>Budget</th>\n",
       "      <th>Unnamed: 2</th>\n",
       "      <th>Unnamed: 3</th>\n",
       "    </tr>\n",
       "  </thead>\n",
       "  <tbody>\n",
       "    <tr>\n",
       "      <td>0</td>\n",
       "      <td>NaN</td>\n",
       "      <td>% of Income Spent</td>\n",
       "      <td>Summary</td>\n",
       "      <td>NaN</td>\n",
       "    </tr>\n",
       "    <tr>\n",
       "      <td>1</td>\n",
       "      <td>NaN</td>\n",
       "      <td>NaN</td>\n",
       "      <td>Total Monthly Income</td>\n",
       "      <td>NaN</td>\n",
       "    </tr>\n",
       "    <tr>\n",
       "      <td>2</td>\n",
       "      <td>NaN</td>\n",
       "      <td>NaN</td>\n",
       "      <td>162681</td>\n",
       "      <td>NaN</td>\n",
       "    </tr>\n",
       "    <tr>\n",
       "      <td>3</td>\n",
       "      <td>NaN</td>\n",
       "      <td>NaN</td>\n",
       "      <td>Total Monthly Expenses</td>\n",
       "      <td>NaN</td>\n",
       "    </tr>\n",
       "    <tr>\n",
       "      <td>4</td>\n",
       "      <td>NaN</td>\n",
       "      <td>NaN</td>\n",
       "      <td>94723</td>\n",
       "      <td>NaN</td>\n",
       "    </tr>\n",
       "  </tbody>\n",
       "</table>\n",
       "</div>"
      ],
      "text/plain": [
       "   Unnamed: 0             Budget              Unnamed: 2 Unnamed: 3\n",
       "0         NaN  % of Income Spent                 Summary        NaN\n",
       "1         NaN                NaN    Total Monthly Income        NaN\n",
       "2         NaN                NaN                  162681        NaN\n",
       "3         NaN                NaN  Total Monthly Expenses        NaN\n",
       "4         NaN                NaN                   94723        NaN"
      ]
     },
     "execution_count": 29,
     "metadata": {},
     "output_type": "execute_result"
    }
   ],
   "source": [
    "df= pd.read_excel(r\"C:\\Users\\Prathyusha Imandi\\Downloads\\October sheet.xlsx\")\n",
    "df.head()"
   ]
  },
  {
   "cell_type": "code",
   "execution_count": 4,
   "metadata": {},
   "outputs": [
    {
     "data": {
      "text/html": [
       "<div>\n",
       "<style scoped>\n",
       "    .dataframe tbody tr th:only-of-type {\n",
       "        vertical-align: middle;\n",
       "    }\n",
       "\n",
       "    .dataframe tbody tr th {\n",
       "        vertical-align: top;\n",
       "    }\n",
       "\n",
       "    .dataframe thead th {\n",
       "        text-align: right;\n",
       "    }\n",
       "</style>\n",
       "<table border=\"1\" class=\"dataframe\">\n",
       "  <thead>\n",
       "    <tr style=\"text-align: right;\">\n",
       "      <th></th>\n",
       "      <th>Unnamed: 0</th>\n",
       "      <th>Budget</th>\n",
       "      <th>Unnamed: 2</th>\n",
       "      <th>Unnamed: 3</th>\n",
       "    </tr>\n",
       "  </thead>\n",
       "  <tbody>\n",
       "    <tr>\n",
       "      <td>41</td>\n",
       "      <td>NaN</td>\n",
       "      <td>panta D tablets</td>\n",
       "      <td>48</td>\n",
       "      <td>Oct3rd</td>\n",
       "    </tr>\n",
       "    <tr>\n",
       "      <td>42</td>\n",
       "      <td>NaN</td>\n",
       "      <td>petrol</td>\n",
       "      <td>320</td>\n",
       "      <td>oct 4th</td>\n",
       "    </tr>\n",
       "    <tr>\n",
       "      <td>43</td>\n",
       "      <td>NaN</td>\n",
       "      <td>🍅 tomatoes</td>\n",
       "      <td>45</td>\n",
       "      <td>oct 4th</td>\n",
       "    </tr>\n",
       "    <tr>\n",
       "      <td>44</td>\n",
       "      <td>NaN</td>\n",
       "      <td>pesticide cleaning</td>\n",
       "      <td>600</td>\n",
       "      <td>oct 5th</td>\n",
       "    </tr>\n",
       "  </tbody>\n",
       "</table>\n",
       "</div>"
      ],
      "text/plain": [
       "    Unnamed: 0              Budget Unnamed: 2 Unnamed: 3\n",
       "41         NaN     panta D tablets         48     Oct3rd\n",
       "42         NaN              petrol        320    oct 4th\n",
       "43         NaN          🍅 tomatoes         45    oct 4th\n",
       "44         NaN  pesticide cleaning        600    oct 5th"
      ]
     },
     "execution_count": 4,
     "metadata": {},
     "output_type": "execute_result"
    }
   ],
   "source": [
    "#reading a sheet in an excel:\n",
    "df = pd.read_excel(r\"C:\\Users\\Prathyusha Imandi\\Downloads\\October sheet.xlsx\",sheet_name=\"Manage My Money\")\n",
    "df[41:45]"
   ]
  },
  {
   "cell_type": "code",
   "execution_count": 33,
   "metadata": {},
   "outputs": [],
   "source": [
    "#Reading more than one sheet\n",
    "#with pd.ExcelFile('exl.xlsx') as e:\n",
    "                #df1=pandas.read_excel(e,'Sheet1')\n",
    "                #df2=pandas.read_excel(e,'Sheet2')"
   ]
  },
  {
   "cell_type": "code",
   "execution_count": 69,
   "metadata": {},
   "outputs": [
    {
     "data": {
      "text/html": [
       "<div>\n",
       "<style scoped>\n",
       "    .dataframe tbody tr th:only-of-type {\n",
       "        vertical-align: middle;\n",
       "    }\n",
       "\n",
       "    .dataframe tbody tr th {\n",
       "        vertical-align: top;\n",
       "    }\n",
       "\n",
       "    .dataframe thead th {\n",
       "        text-align: right;\n",
       "    }\n",
       "</style>\n",
       "<table border=\"1\" class=\"dataframe\">\n",
       "  <thead>\n",
       "    <tr style=\"text-align: right;\">\n",
       "      <th></th>\n",
       "      <th>name</th>\n",
       "      <th>age</th>\n",
       "      <th>city</th>\n",
       "      <th>profession</th>\n",
       "    </tr>\n",
       "  </thead>\n",
       "  <tbody>\n",
       "    <tr>\n",
       "      <td>0</td>\n",
       "      <td>Prathyusha</td>\n",
       "      <td>24</td>\n",
       "      <td>Hyderabad</td>\n",
       "      <td>Engineer</td>\n",
       "    </tr>\n",
       "  </tbody>\n",
       "</table>\n",
       "</div>"
      ],
      "text/plain": [
       "         name  age       city profession\n",
       "0  Prathyusha   24  Hyderabad   Engineer"
      ]
     },
     "execution_count": 69,
     "metadata": {},
     "output_type": "execute_result"
    }
   ],
   "source": [
    "#Reading Data from JSON file\n",
    "import pandas as pd\n",
    "\n",
    "df = pd.read_json(\"Desktop\\sample.json\")\n",
    "\n",
    "# Add new columns (key-value pairs)\n",
    "df[\"city\"] = \"Hyderabad\"\n",
    "df[\"profession\"] = \"Engineer\"\n",
    "\n",
    "# Save updated DataFrame back to JSON file (array of records)\n",
    "df.to_json(\"Desktop\\sample.json\", orient=\"records\")\n",
    "df"
   ]
  },
  {
   "cell_type": "code",
   "execution_count": 6,
   "metadata": {},
   "outputs": [
    {
     "name": "stdout",
     "output_type": "stream",
     "text": [
      "Exists: True\n",
      "Is File: True\n",
      "Is Directory: False\n",
      "File Size: 13 bytes\n",
      "Base Name: example.txt\n",
      "Dir Name: \n",
      "File not found! Cannot delete.\n",
      "Extra Day 6 section completed successfully ✅\n"
     ]
    }
   ],
   "source": [
    "# ====== EXTRA: os.path utilities ======\n",
    "import os\n",
    "\n",
    "file_path = \"example.txt\"\n",
    "\n",
    "# Create a sample file\n",
    "with open(file_path, \"w\") as f:\n",
    "    f.write(\"Hello, World!\")\n",
    "\n",
    "print(\"Exists:\", os.path.exists(file_path))\n",
    "print(\"Is File:\", os.path.isfile(file_path))\n",
    "print(\"Is Directory:\", os.path.isdir(file_path))\n",
    "print(\"File Size:\", os.path.getsize(file_path), \"bytes\")\n",
    "print(\"Base Name:\", os.path.basename(file_path))\n",
    "print(\"Dir Name:\", os.path.dirname(file_path))\n",
    "\n",
    "# ====== EXTRA: shutil module ======\n",
    "import shutil\n",
    "\n",
    "# Copy file\n",
    "shutil.copy(file_path, \"example_copy.txt\")\n",
    "\n",
    "# Move file (renaming)\n",
    "shutil.move(\"example_copy.txt\", \"renamed_copy.txt\")\n",
    "\n",
    "# Remove file\n",
    "os.remove(\"renamed_copy.txt\")\n",
    "\n",
    "# Remove a directory tree (with files inside)\n",
    "os.mkdir(\"test_dir\")\n",
    "with open(\"test_dir/temp.txt\", \"w\") as f:\n",
    "    f.write(\"Inside folder\")\n",
    "shutil.rmtree(\"test_dir\")\n",
    "\n",
    "# ====== EXTRA: Error handling for files ======\n",
    "try:\n",
    "    os.remove(\"non_existing_file.txt\")\n",
    "except FileNotFoundError:\n",
    "    print(\"File not found! Cannot delete.\")\n",
    "\n",
    "print(\"Extra Day 6 section completed successfully ✅\")\n"
   ]
  },
  {
   "cell_type": "code",
   "execution_count": null,
   "metadata": {},
   "outputs": [],
   "source": []
  },
  {
   "cell_type": "code",
   "execution_count": null,
   "metadata": {},
   "outputs": [],
   "source": []
  },
  {
   "cell_type": "code",
   "execution_count": null,
   "metadata": {},
   "outputs": [],
   "source": []
  }
 ],
 "metadata": {
  "kernelspec": {
   "display_name": "Python 3",
   "language": "python",
   "name": "python3"
  },
  "language_info": {
   "codemirror_mode": {
    "name": "ipython",
    "version": 3
   },
   "file_extension": ".py",
   "mimetype": "text/x-python",
   "name": "python",
   "nbconvert_exporter": "python",
   "pygments_lexer": "ipython3",
   "version": "3.7.4"
  }
 },
 "nbformat": 4,
 "nbformat_minor": 2
}
