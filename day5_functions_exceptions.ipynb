{
 "cells": [
  {
   "cell_type": "code",
   "execution_count": 1,
   "metadata": {},
   "outputs": [],
   "source": [
    "#functions\n",
    "#function is a block of code that does some set of steps \n",
    "#when we want to do same set of steps, we can call function directly instead of manually doing everytime"
   ]
  },
  {
   "cell_type": "code",
   "execution_count": 5,
   "metadata": {},
   "outputs": [
    {
     "data": {
      "text/plain": [
       "'Sample function creation'"
      ]
     },
     "execution_count": 5,
     "metadata": {},
     "output_type": "execute_result"
    }
   ],
   "source": [
    "#example\n",
    "def function1():\n",
    "    return \"Sample function creation\"\n",
    "function1()"
   ]
  },
  {
   "cell_type": "code",
   "execution_count": 6,
   "metadata": {},
   "outputs": [],
   "source": [
    "#Types of Python Function Arguments"
   ]
  },
  {
   "cell_type": "code",
   "execution_count": 21,
   "metadata": {},
   "outputs": [
    {
     "name": "stdout",
     "output_type": "stream",
     "text": [
      "value of x : 20\n",
      "value of y : 30\n",
      "Mahesh babu\n",
      "Imandi Prathyu\n",
      "name is : Prathyu\n",
      "age is : 24\n"
     ]
    },
    {
     "data": {
      "text/plain": [
       "{'name': 'Prathyusha', 'age': 24}"
      ]
     },
     "execution_count": 21,
     "metadata": {},
     "output_type": "execute_result"
    }
   ],
   "source": [
    "#Default argument\n",
    "def fun(x,y=10):\n",
    "    print(\"value of x :\",x)\n",
    "    print(\"value of y :\",y)\n",
    "fun(20,30)\n",
    "#Keyword arguments (named arguments)\n",
    "def student(fname, lname):\n",
    "    print(fname, lname)\n",
    "\n",
    "student(fname='Mahesh', lname='babu')\n",
    "student(lname='Prathyu', fname='Imandi')\n",
    "#Positional arguments\n",
    "def fun2(name,age):\n",
    "    print(\"name is :\",name)\n",
    "    print(\"age is :\",age)\n",
    "fun2(\"Prathyu\",24)\n",
    "\n",
    "\n",
    "#Arbitrary arguments (variable-length arguments *args and **kwargs)\n",
    "#1.*args in Python (Non-Keyword Arguments)\n",
    "def fun3(*argv):\n",
    "    return argv\n",
    "fun3(\"Hello\",\"Prathyusha\")\n",
    "\n",
    "#2.**kwargs in Python (Keyword Arguments)\n",
    "def fun4(**kwargs):\n",
    "    return kwargs\n",
    "fun4(name=\"Prathyusha\",age =24)"
   ]
  },
  {
   "cell_type": "code",
   "execution_count": 33,
   "metadata": {},
   "outputs": [
    {
     "name": "stdout",
     "output_type": "stream",
     "text": [
      "local variable\n",
      "I am Global variable\n",
      "I am Global variable\n",
      "inner: nonlocal\n",
      "outer: nonlocal\n"
     ]
    }
   ],
   "source": [
    "#Scope (local, global, nonlocal)\n",
    "\n",
    "#local:\n",
    "def fun1():\n",
    "    message = \"local variable\"\n",
    "    print(message) #local variable works only inside function\n",
    "fun1()\n",
    "#print(message) #fails because local variable is created in function, not outside of the function\n",
    "\n",
    "#global:\n",
    "globalMsg = \"I am Global variable\"\n",
    "def fun2():\n",
    "    print(globalMsg)\n",
    "fun2()\n",
    "print(globalMsg)\n",
    "\n",
    "#nonlocal\n",
    "\n",
    "# outside function \n",
    "def outer():\n",
    "    message = 'local'\n",
    "\n",
    "    # nested function  \n",
    "    def inner():\n",
    "\n",
    "        # declare nonlocal variable\n",
    "        nonlocal message\n",
    "\n",
    "        message = 'nonlocal'\n",
    "        print(\"inner:\", message)\n",
    "\n",
    "    inner()\n",
    "    print(\"outer:\", message)\n",
    "\n",
    "outer()"
   ]
  },
  {
   "cell_type": "code",
   "execution_count": 34,
   "metadata": {},
   "outputs": [
    {
     "name": "stdout",
     "output_type": "stream",
     "text": [
      "120\n"
     ]
    }
   ],
   "source": [
    "#recursion - function calling itself\n",
    "def factorial(n):\n",
    "    if n == 0:\n",
    "        return 1\n",
    "    else:\n",
    "        return n * factorial(n-1)\n",
    "\n",
    "print(factorial(5))"
   ]
  },
  {
   "cell_type": "code",
   "execution_count": 37,
   "metadata": {},
   "outputs": [
    {
     "name": "stdout",
     "output_type": "stream",
     "text": [
      "15\n"
     ]
    }
   ],
   "source": [
    "#lambda reduce() reduce(lambda arguments: expression, iterable)\n",
    "from functools import reduce\n",
    "\n",
    "a=[1,2,3,4,5]\n",
    "res= reduce(lambda x,y : x+y , a)\n",
    "print(res)"
   ]
  },
  {
   "cell_type": "code",
   "execution_count": 44,
   "metadata": {},
   "outputs": [
    {
     "name": "stdout",
     "output_type": "stream",
     "text": [
      "u can't divide by zero\n",
      "executed\n"
     ]
    }
   ],
   "source": [
    "#exception handling\n",
    "try:\n",
    "    n=0\n",
    "    res = 100/n\n",
    "except:\n",
    "    print(\"u can't divide by zero\")\n",
    "else:\n",
    "    print(\"Result is\", res)\n",
    "finally:\n",
    "    print(\"executed\")\n"
   ]
  },
  {
   "cell_type": "code",
   "execution_count": 1,
   "metadata": {},
   "outputs": [
    {
     "name": "stdout",
     "output_type": "stream",
     "text": [
      "age can't be negative\n"
     ]
    }
   ],
   "source": [
    "#Raise an Exception\n",
    "def fun1(age):\n",
    "    if age  < 0:\n",
    "        raise ValueError(\"age can't be negative\")\n",
    "try:\n",
    "    fun1(-5)\n",
    "except ValueError as e:\n",
    "    print(e)"
   ]
  },
  {
   "cell_type": "code",
   "execution_count": 8,
   "metadata": {},
   "outputs": [
    {
     "name": "stdout",
     "output_type": "stream",
     "text": [
      "Enter age: 19\n",
      "Eligible to Vote\n"
     ]
    }
   ],
   "source": [
    "class InvalidAgeException(Exception):\n",
    "    \"Raised when the input value is less than 18\"\n",
    "    pass\n",
    "\n",
    "try:\n",
    "    age = int(input(\"Enter age: \"))\n",
    "    if age < 18:\n",
    "        raise InvalidAgeException\n",
    "    else:\n",
    "        print(\"Eligible to Vote\")\n",
    "        \n",
    "except InvalidAgeException:\n",
    "    print(\"Exception occurred: Invalid Age\")"
   ]
  },
  {
   "cell_type": "code",
   "execution_count": 12,
   "metadata": {},
   "outputs": [
    {
     "data": {
      "text/plain": [
       "120"
      ]
     },
     "execution_count": 12,
     "metadata": {},
     "output_type": "execute_result"
    }
   ],
   "source": [
    "#Function that calculates factorial (recursion)\n",
    "#recursion:\n",
    "def fact(n):\n",
    "    if n==0:\n",
    "        return 1\n",
    "    else:\n",
    "        return n * fact(n-1)\n",
    "fact(5)    "
   ]
  },
  {
   "cell_type": "code",
   "execution_count": 15,
   "metadata": {},
   "outputs": [
    {
     "name": "stdout",
     "output_type": "stream",
     "text": [
      "Error: Negative numbers are not allowed.\n"
     ]
    }
   ],
   "source": [
    "class NegativeNumberError(Exception):\n",
    "    pass\n",
    "\n",
    "def check_positive(num):\n",
    "    if num < 0:\n",
    "        raise NegativeNumberError(\"Negative numbers are not allowed.\")\n",
    "    return num\n",
    "\n",
    "try:\n",
    "    print(check_positive(-4))\n",
    "except NegativeNumberError as e:\n",
    "    print(f\"Error: {e}\")\n"
   ]
  },
  {
   "cell_type": "code",
   "execution_count": null,
   "metadata": {},
   "outputs": [],
   "source": []
  }
 ],
 "metadata": {
  "kernelspec": {
   "display_name": "Python 3",
   "language": "python",
   "name": "python3"
  },
  "language_info": {
   "codemirror_mode": {
    "name": "ipython",
    "version": 3
   },
   "file_extension": ".py",
   "mimetype": "text/x-python",
   "name": "python",
   "nbconvert_exporter": "python",
   "pygments_lexer": "ipython3",
   "version": "3.7.4"
  }
 },
 "nbformat": 4,
 "nbformat_minor": 2
}
