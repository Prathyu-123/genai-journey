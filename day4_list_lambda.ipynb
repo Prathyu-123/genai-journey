{
 "cells": [
  {
   "cell_type": "code",
   "execution_count": 1,
   "metadata": {},
   "outputs": [],
   "source": [
    "#List comprehensions:\n",
    "#List comprehension is a way to create lists using a concise syntax. It allows us to generate a new list by applying an expression to each item in an existing iterable (such as a list or range). This helps us to write cleaner, more readable code compared to traditional looping techniques."
   ]
  },
  {
   "cell_type": "code",
   "execution_count": 5,
   "metadata": {},
   "outputs": [
    {
     "name": "stdout",
     "output_type": "stream",
     "text": [
      "[1, 4, 9]\n"
     ]
    }
   ],
   "source": [
    "\n",
    "#write a python program to return squares of each numer using list comprehensions\n",
    "a=[1,2,3]\n",
    "res=[i**2 for i in a]\n",
    "print(res)"
   ]
  },
  {
   "cell_type": "code",
   "execution_count": 6,
   "metadata": {},
   "outputs": [],
   "source": [
    "#syntax:[expression for i in list_name if condition]"
   ]
  },
  {
   "cell_type": "code",
   "execution_count": 7,
   "metadata": {},
   "outputs": [],
   "source": [
    "#For Loop vs. List Comprehension\n",
    "#The main difference is that a for loop requires multiple lines to create a new list by iterating over items and manually adding each one. Whereas, list comprehension do the same task in a single line, this makes the code simpler and easier to read."
   ]
  },
  {
   "cell_type": "code",
   "execution_count": 10,
   "metadata": {},
   "outputs": [
    {
     "name": "stdout",
     "output_type": "stream",
     "text": [
      "[1, 4, 9]\n"
     ]
    }
   ],
   "source": [
    "#same above program using for loop:\n",
    "a=[1,2,3]\n",
    "res=[]\n",
    "for i in a:\n",
    "    res.append(i**2)\n",
    "print(res)"
   ]
  },
  {
   "cell_type": "code",
   "execution_count": 11,
   "metadata": {},
   "outputs": [
    {
     "name": "stdout",
     "output_type": "stream",
     "text": [
      "[2, 4, 6, 8]\n"
     ]
    }
   ],
   "source": [
    "#Conditional Statements in List Comprehension\n",
    "\n",
    "#write a python program to return even list in a given integers using list comprehension\n",
    "\n",
    "a=[1,2,3,4,5,6,7,7,8]\n",
    "res=[i for i in a if i%2 == 0]\n",
    "print(res)"
   ]
  },
  {
   "cell_type": "code",
   "execution_count": 13,
   "metadata": {},
   "outputs": [
    {
     "name": "stdout",
     "output_type": "stream",
     "text": [
      "[0, 1, 2, 3, 4, 5, 6, 7, 8, 9]\n"
     ]
    }
   ],
   "source": [
    "#Examples of list comprehension\n",
    "#Creating a list from a range (A simple example is creating a list of numbers from 0 to 9.)\n",
    "\n",
    "res=[i for i in range(0,10)]\n",
    "print(res)"
   ]
  },
  {
   "cell_type": "code",
   "execution_count": 14,
   "metadata": {},
   "outputs": [],
   "source": [
    "#Using nested loops\n",
    "#List comprehension can also be used with nested loops. Here, we generate a list of coordinate pairs for a simple 3x3 grid."
   ]
  },
  {
   "cell_type": "code",
   "execution_count": 16,
   "metadata": {},
   "outputs": [
    {
     "name": "stdout",
     "output_type": "stream",
     "text": [
      "[(0, 0), (0, 1), (0, 2), (1, 0), (1, 1), (1, 2), (2, 0), (2, 1), (2, 2)]\n"
     ]
    }
   ],
   "source": [
    "coordinates = [(x,y) for x in range(0,3) for y in range(0,3)]\n",
    "print(coordinates)"
   ]
  },
  {
   "cell_type": "code",
   "execution_count": 21,
   "metadata": {},
   "outputs": [
    {
     "name": "stdout",
     "output_type": "stream",
     "text": [
      "[1, 2, 3, 4, 5, 6, 7]\n"
     ]
    }
   ],
   "source": [
    "#Flattening a list of lists\n",
    "#Suppose we have a list of lists and we want to convert it into a single list.\n",
    "\n",
    "a=[[1,2],[3,4],[5,6,7]]\n",
    "\n",
    "res=[i for j in a for i in j]\n",
    "print(res)"
   ]
  },
  {
   "cell_type": "code",
   "execution_count": 23,
   "metadata": {},
   "outputs": [
    {
     "name": "stdout",
     "output_type": "stream",
     "text": [
      "[1, 4, 9, 16, 25, 36, 49, 64, 81, 100]\n"
     ]
    }
   ],
   "source": [
    "#Create a list of squares for numbers 1–10.\n",
    "res=[i**2 for i in range(1,11)]\n",
    "print(res)"
   ]
  },
  {
   "cell_type": "code",
   "execution_count": 24,
   "metadata": {},
   "outputs": [
    {
     "name": "stdout",
     "output_type": "stream",
     "text": [
      "[2, 4, 4]\n"
     ]
    }
   ],
   "source": [
    "#Extract even numbers from a list.\n",
    "a=[1,2,3,4,4,5]\n",
    "res=[i for i in a if i%2==0]\n",
    "print(res)"
   ]
  },
  {
   "cell_type": "code",
   "execution_count": 40,
   "metadata": {},
   "outputs": [
    {
     "name": "stdout",
     "output_type": "stream",
     "text": [
      "[0, 0, 0, 0, 1, 2, 3]\n"
     ]
    }
   ],
   "source": [
    "#Replace negative numbers with 0 in a list.\n",
    "a=[-1,-2,-4,0,1,2,3]\n",
    "res=[0 if i<0 else i for i in a]\n",
    "print(res)"
   ]
  },
  {
   "cell_type": "code",
   "execution_count": 43,
   "metadata": {},
   "outputs": [
    {
     "name": "stdout",
     "output_type": "stream",
     "text": [
      "[1, 2, 3, 4, 7, 8]\n"
     ]
    }
   ],
   "source": [
    "#Flatten a 2D list using nested comprehension.\n",
    "a=[[1,2],[3,4],[7,8]]\n",
    "res=[j for i in a for j in i]\n",
    "print(res)"
   ]
  },
  {
   "cell_type": "code",
   "execution_count": 44,
   "metadata": {},
   "outputs": [],
   "source": [
    "#Dictionary Comprehension"
   ]
  },
  {
   "cell_type": "code",
   "execution_count": 48,
   "metadata": {},
   "outputs": [
    {
     "name": "stdout",
     "output_type": "stream",
     "text": [
      "{'a': 1, 'b': 2, 'c': 3, 'd': 4, 'e': 5}\n"
     ]
    }
   ],
   "source": [
    "#Python Dictionary Comprehension Example\n",
    "#Here we have two lists named keys and value and we are iterating over them with the help of zip() function.\n",
    "keys=['a','b','c','d','e']\n",
    "values=[1,2,3,4,5]\n",
    "\n",
    "res={k:v for (k,v) in zip(keys,values)}\n",
    "print(res)"
   ]
  },
  {
   "cell_type": "code",
   "execution_count": 53,
   "metadata": {},
   "outputs": [
    {
     "name": "stdout",
     "output_type": "stream",
     "text": [
      "{1: 1, 2: 4, 3: 9, 4: 16, 5: 25}\n"
     ]
    }
   ],
   "source": [
    "#Create a dict mapping numbers 1–5 to their squares.\n",
    "keys=[i for i in range(1,6)]\n",
    "values=[i**2 for i in keys]\n",
    "res = {k:v for (k,v) in zip(keys,values)}\n",
    "print(res)"
   ]
  },
  {
   "cell_type": "code",
   "execution_count": 54,
   "metadata": {},
   "outputs": [
    {
     "name": "stdout",
     "output_type": "stream",
     "text": [
      "{1: 1, 2: 4, 3: 9, 4: 16, 5: 25}\n"
     ]
    }
   ],
   "source": [
    "#Swap keys and values in a dictionary.\n",
    "print(res)"
   ]
  },
  {
   "cell_type": "code",
   "execution_count": 63,
   "metadata": {},
   "outputs": [
    {
     "name": "stdout",
     "output_type": "stream",
     "text": [
      "before swapping : {1: 1, 2: 4, 3: 9, 4: 16, 5: 25}\n",
      "after swapping : {1: 1, 4: 2, 9: 3, 16: 4, 25: 5}\n"
     ]
    }
   ],
   "source": [
    "print(\"before swapping :\",res)\n",
    "result = dict([(v, k) for k, v in res.items()])\n",
    "print(\"after swapping :\",result)"
   ]
  },
  {
   "cell_type": "code",
   "execution_count": 67,
   "metadata": {},
   "outputs": [
    {
     "name": "stdout",
     "output_type": "stream",
     "text": [
      "{3, 6, 9, 12, 15, 18, 21, 24, 27, 30}\n"
     ]
    }
   ],
   "source": [
    "#set comprehensions\n",
    "myList = [1, 2, 3, 4, 5, 6, 7, 8, 9, 10]\n",
    "newSet = {element*3 for element in myList}\n",
    "print(newSet)"
   ]
  },
  {
   "cell_type": "code",
   "execution_count": 74,
   "metadata": {},
   "outputs": [
    {
     "name": "stdout",
     "output_type": "stream",
     "text": [
      "{16, 64, 4, 36}\n"
     ]
    }
   ],
   "source": [
    "#multiplu by 3 if element is even\n",
    "myList=[1,2,3,4,5,6,7,8]\n",
    "newSet={i**2 for i in myList if i%2 == 0}\n",
    "print(newSet)"
   ]
  },
  {
   "cell_type": "code",
   "execution_count": 82,
   "metadata": {},
   "outputs": [
    {
     "name": "stdout",
     "output_type": "stream",
     "text": [
      "['u', 'e', 'a']\n"
     ]
    }
   ],
   "source": [
    "#Extract unique vowels from a given string.\n",
    "s=\"mahesh Babu\"\n",
    "mySet=set(s)\n",
    "res =[i for i in mySet if i == 'a' or i == 'e' or i == 'i' or i == 'o' or i == 'u' or i == 'A' or i == 'E' or i == 'I' or i == 'O' or i == 'U']\n",
    "print(res)"
   ]
  },
  {
   "cell_type": "code",
   "execution_count": 83,
   "metadata": {},
   "outputs": [],
   "source": [
    "# Lambda Functions\n",
    "#In Python, an anonymous function means that a function is without a name. As we already know that def keyword is used to define the normal functions and the lambda keyword is used to create anonymous functions."
   ]
  },
  {
   "cell_type": "code",
   "execution_count": 87,
   "metadata": {},
   "outputs": [
    {
     "name": "stdout",
     "output_type": "stream",
     "text": [
      "number is:  even num\n"
     ]
    }
   ],
   "source": [
    "#syntax\n",
    "#lambda arguments : expression\n",
    "res=lambda num: \"even num\" if num%2 == 0 else \"odd number\"\n",
    "print(\"number is: \",res(20))\n",
    "\n"
   ]
  },
  {
   "cell_type": "code",
   "execution_count": 94,
   "metadata": {},
   "outputs": [
    {
     "name": "stdout",
     "output_type": "stream",
     "text": [
      "[1, 8, 27, 64, 125]\n"
     ]
    }
   ],
   "source": [
    "#map() - map(lambda arguments: expression, iterable)\n",
    "#kube of all numbers\n",
    "a=[1,2,3,4,5]\n",
    "b = map(lambda x : x**3 , a)\n",
    "print(list(b))"
   ]
  },
  {
   "cell_type": "code",
   "execution_count": 102,
   "metadata": {},
   "outputs": [
    {
     "name": "stdout",
     "output_type": "stream",
     "text": [
      "[1, 3, 5]\n"
     ]
    }
   ],
   "source": [
    "#filter() filter(lambda arguments: condition, iterable)\n",
    "#print all odd numbers\n",
    "nums = [1,2,3,4,5]\n",
    "b = filter(lambda x:  x%2!=0,nums)\n",
    "print(list(b))"
   ]
  },
  {
   "cell_type": "code",
   "execution_count": 105,
   "metadata": {},
   "outputs": [
    {
     "name": "stdout",
     "output_type": "stream",
     "text": [
      "[1, 2, 3, 4, 5, 6, 7, 8, 9, 10]\n"
     ]
    }
   ],
   "source": [
    "#sorted() sorted(iterable, key=lambda arguments: key_expression)\n",
    "l=[10,6,1,7,2,9,3,5,4,8]\n",
    "res=sorted(l,key=lambda x: x)\n",
    "print(res)"
   ]
  },
  {
   "cell_type": "code",
   "execution_count": 106,
   "metadata": {},
   "outputs": [
    {
     "name": "stdout",
     "output_type": "stream",
     "text": [
      "9\n"
     ]
    }
   ],
   "source": [
    "#Square a number with lambda.\n",
    "\n",
    "b = lambda x : x**2\n",
    "print(b(3))"
   ]
  },
  {
   "cell_type": "code",
   "execution_count": 110,
   "metadata": {},
   "outputs": [
    {
     "name": "stdout",
     "output_type": "stream",
     "text": [
      "[89.6, 93.2, 96.8, 107.60000000000001]\n"
     ]
    }
   ],
   "source": [
    "#Use map + lambda to convert list of temperatures from Celsius to Fahrenheit.\n",
    "# f = (Celsius * 1.8) + 32\n",
    "celsius = [32,34,36,42]\n",
    "farenheit = map(lambda x : (x*1.8)+32,celsius)\n",
    "print(list(farenheit))"
   ]
  },
  {
   "cell_type": "code",
   "execution_count": 114,
   "metadata": {},
   "outputs": [
    {
     "name": "stdout",
     "output_type": "stream",
     "text": [
      "[3, 6, 9, 12]\n"
     ]
    }
   ],
   "source": [
    "#Use filter + lambda to get numbers divisible by 3.\n",
    "\n",
    "nums =[1,2,3,4,5,5,6,7,8,9,12]\n",
    "res = filter(lambda x: x%3==0,nums)\n",
    "print(list(res))"
   ]
  },
  {
   "cell_type": "code",
   "execution_count": 116,
   "metadata": {},
   "outputs": [
    {
     "name": "stdout",
     "output_type": "stream",
     "text": [
      "[('Elena', 20), ('Prathyu', 24), ('Stefen', 39), ('Damon', 50)]\n"
     ]
    }
   ],
   "source": [
    "#Sort list of tuples (name, age) by age using lambda.\n",
    "\n",
    "my_list=[(\"Prathyu\",24),(\"Elena\",20),(\"Stefen\",39),(\"Damon\",50)]\n",
    "res=sorted(my_list,key=lambda x: x[-1])\n",
    "print(res)"
   ]
  },
  {
   "cell_type": "code",
   "execution_count": 119,
   "metadata": {},
   "outputs": [
    {
     "name": "stdout",
     "output_type": "stream",
     "text": [
      "[('Prathyu', 100), ('Damon', 89), ('Klaus', 78), ('Tyler', 67), ('Elena', 50)]\n"
     ]
    }
   ],
   "source": [
    "#Given a list of tuples (name, score), sort by score in descending order (lambda).\n",
    "my_list=[(\"Prathyu\",100),(\"Elena\",50),(\"Damon\",89),(\"Klaus\",78),(\"Tyler\",67)]\n",
    "res=sorted(my_list , key=lambda x : x[-1],reverse=True)\n",
    "print(res)"
   ]
  },
  {
   "cell_type": "code",
   "execution_count": 125,
   "metadata": {},
   "outputs": [
    {
     "name": "stdout",
     "output_type": "stream",
     "text": [
      "['Prathyu', 'Caroline', 'Tyler', 'Klaus']\n"
     ]
    }
   ],
   "source": [
    "#From a list of words, get only those with length > 4\n",
    "my_list=[\"Prathyu\",\"Caroline\",\"Mahi\",\"Tyler\",\"Klaus\",\"john\"]\n",
    "res=filter(lambda x: len(x)>4, my_list)\n",
    "print(list(res))"
   ]
  },
  {
   "cell_type": "code",
   "execution_count": 136,
   "metadata": {},
   "outputs": [
    {
     "name": "stdout",
     "output_type": "stream",
     "text": [
      "{'Mahesh': 5, 'Tyler': 6, 'Prathyu': 7}\n"
     ]
    }
   ],
   "source": [
    "#Create a dictionary mapping each word to its length (dict comprehension).\n",
    "\n",
    "keys={\"Prathyu\",\"Mahesh\",\"Tyler\",\"Klaus\"}\n",
    "values = {len(i) for i in keys}\n",
    "res={k:v for (k,v) in zip(keys,values)}\n",
    "print(res)"
   ]
  },
  {
   "cell_type": "code",
   "execution_count": null,
   "metadata": {},
   "outputs": [],
   "source": []
  },
  {
   "cell_type": "code",
   "execution_count": null,
   "metadata": {},
   "outputs": [],
   "source": []
  }
 ],
 "metadata": {
  "kernelspec": {
   "display_name": "Python 3",
   "language": "python",
   "name": "python3"
  },
  "language_info": {
   "codemirror_mode": {
    "name": "ipython",
    "version": 3
   },
   "file_extension": ".py",
   "mimetype": "text/x-python",
   "name": "python",
   "nbconvert_exporter": "python",
   "pygments_lexer": "ipython3",
   "version": "3.7.4"
  }
 },
 "nbformat": 4,
 "nbformat_minor": 2
}
